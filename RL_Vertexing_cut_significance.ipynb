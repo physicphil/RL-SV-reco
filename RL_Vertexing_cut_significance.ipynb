{
 "cells": [
  {
   "cell_type": "code",
   "execution_count": 1,
   "metadata": {},
   "outputs": [
    {
     "name": "stdout",
     "output_type": "stream",
     "text": [
      "Device: cuda\n"
     ]
    }
   ],
   "source": [
    "# imports\n",
    "import sys\n",
    "import time\n",
    "from IPython.core.debugger import set_trace\n",
    "\n",
    "import numpy as np\n",
    "from numpy import linalg as LA\n",
    "import math\n",
    "import random\n",
    "\n",
    "import matplotlib\n",
    "#matplotlib.use('Agg')\n",
    "\n",
    "import matplotlib.pyplot as plt\n",
    "\n",
    "from sklearn.preprocessing import StandardScaler\n",
    "\n",
    "from itertools import count\n",
    "\n",
    "import torch#\n",
    "import torch.nn as nn\n",
    "import torch.optim as optim\n",
    "import torch.nn.functional as F\n",
    "import torchvision.transforms as T\n",
    "\n",
    "import Intersection_finder_absoluteCoordinates_Module as I\n",
    "import VertexObject as VO\n",
    "\n",
    "device = torch.device(\"cuda\" if torch.cuda.is_available() else \"cpu\")\n",
    "print(f\"Device: {device}\")"
   ]
  },
  {
   "cell_type": "code",
   "execution_count": 2,
   "metadata": {},
   "outputs": [],
   "source": [
    "class DQN(nn.Module):\n",
    "    \"\"\"DQN class with h input nodes and output output nodes\"\"\"\n",
    "    def __init__(self, n_inputs, n_parameters, outputs):\n",
    "        super(DQN, self).__init__()\n",
    "        self.n_inputs = n_inputs\n",
    "        self.cn1 = nn.Conv2d(1, 32, (1,n_parameters))\n",
    "        self.cn2 = nn.Conv2d(32, 32, (1,1))\n",
    "        self.cn3 = nn.Conv2d(32, 16, (1,1))\n",
    "        self.cn4 = nn.Conv2d(16, 8, (1,1))\n",
    "        self.fcn1 = nn.Linear(self.n_inputs * 8,256)\n",
    "        self.fcn4 = nn.Linear(256,128)\n",
    "        self.fcn6 = nn.Linear(128,64)\n",
    "        self.fcn5 = nn.Linear(64,outputs)\n",
    "\n",
    "    def forward(self, x):\n",
    "        x = F.relu(self.cn1(x))\n",
    "        x = F.relu(self.cn2(x))\n",
    "        x = F.relu(self.cn3(x))\n",
    "        x = F.relu(self.cn4(x))\n",
    "        x = x.view((-1, 8*self.n_inputs))\n",
    "        x = F.relu(self.fcn1(x))\n",
    "        x = F.relu(self.fcn4(x))\n",
    "        x = F.relu(self.fcn6(x))\n",
    "        x = self.fcn5(x)\n",
    "        return x\n",
    "\n",
    "\n",
    "def select_action_DQN(state):\n",
    "    \"\"\"Selects an action either based on policy or randomly\"\"\"\n",
    "    global steps_done\n",
    "    sample = random.random()\n",
    "    eps_threshold = EPS_END + (EPS_START - EPS_END) * math.exp(-1. * steps_done / EPS_DECAY)\n",
    "    steps_done += 1\n",
    "    a = 0\n",
    "    if sample > eps_threshold:\n",
    "        with torch.no_grad():\n",
    "            # return the index of the max in output tensor\n",
    "            state = state.to(device)\n",
    "            a = (policy_net(state).argsort()).cpu()[0].numpy()\n",
    "            a = np.flip(a)\n",
    "    else:\n",
    "        # return random bool\n",
    "        a = np.random.choice(n_actions, n_actions,replace=False)\n",
    "    #print(\"Action selected:\", a)\n",
    "    return [int(i) for i in a]\n",
    "\n",
    "def init_weights(m):\n",
    "    \"\"\"Inits weights of m by random for linear layers\"\"\"\n",
    "    if type(m) == nn.Linear:\n",
    "        torch.nn.init.zeros_(m.weight)\n",
    "        m.bias.data.fill_(0.00)\n",
    "\n",
    "# maybe change reward such that it can be calculated after the experience\n",
    "# this way training can be made faster by keeping experiences\n",
    "# num steps is a bad thing as it is not         \n",
    "def optimise_model_memory(batch_size):\n",
    "    \"\"\"\n",
    "    This function performs one training step on policy net.\n",
    "    \n",
    "    State action value Q(s,a) is compared to r + Q_t(s',a')\n",
    "    and a step of the optimiser is taken.\n",
    "    \"\"\"\n",
    "    x_batch, y_batch = [], []\n",
    "    action_batch = []\n",
    "    batch_size = min(len(memory), batch_size)\n",
    "    minibatch = random.sample(memory, batch_size)\n",
    "    for state, action, reward, next_state, done in minibatch:\n",
    "        x_batch.append(state)\n",
    "        next_state = next_state.to(device)\n",
    "        y_target = reward if done else reward + gamma * float((target_net(next_state).max()).to('cpu'))\n",
    "        action_batch.append(int(action))\n",
    "        y_batch.append(y_target)\n",
    "        #.type(torch.FloatTensor)\n",
    "    with torch.no_grad():\n",
    "        x_batch = torch.cat(x_batch).to(device)\n",
    "        y_batch = torch.tensor(y_batch).type(torch.FloatTensor).to(device)\n",
    "        action_batch = torch.tensor(action_batch).reshape((batch_size,1)).to(device)\n",
    "    optimizer.zero_grad()\n",
    "    out = policy_net(x_batch).reshape((batch_size, n_actions))\n",
    "    out = out.gather(1, action_batch).squeeze()\n",
    "    loss = F.smooth_l1_loss(out, y_batch)\n",
    "    #loss = F.mse_loss(out, y_batch)\n",
    "    loss.backward()\n",
    "    # clip error values to values between -1 and 1\n",
    "    #for param in policy_net.parameters():\n",
    "     #   param.grad.data.clamp_(-1, 1)\n",
    "    optimizer.step()"
   ]
  },
  {
   "cell_type": "code",
   "execution_count": 3,
   "metadata": {},
   "outputs": [
    {
     "name": "stdout",
     "output_type": "stream",
     "text": [
      "Data loaded\n"
     ]
    }
   ],
   "source": [
    "np_load_old = np.load\n",
    "\n",
    "# modify the default parameters of np.load\n",
    "np.load = lambda *a,**k: np_load_old(*a, allow_pickle=True, **k)\n",
    "\n",
    "# set up training as testing data\n",
    "\n",
    "# load data in torch format\n",
    "X_data = np.load('PFC_data_pocas_wrtJ_sign_cut.npy')\n",
    "y_data = np.load('SV_true_pocas_wrtJ_sign_cut.npy')\n",
    "print(\"Data loaded\")\n",
    "np.load = np_load_old\n"
   ]
  },
  {
   "cell_type": "code",
   "execution_count": null,
   "metadata": {},
   "outputs": [],
   "source": []
  },
  {
   "cell_type": "markdown",
   "metadata": {},
   "source": [
    "PFCatts = 'pt', 'eta', 'phi', 'charge', 'dxy', 'dz', 'pv_x', 'pv_y', 'pv_z',\n",
    "\n",
    "            0     1     2        3          4    5    6         7       8 \n",
    "            \n",
    "           'theta', 'chi2', 'normalizedChi2','ndof', 'nPixelHits', 'deltaEta',\n",
    "           \n",
    "              9        10            11         12       13            14\n",
    "              \n",
    "           'deltaPhi', 'jetPtFrac', \n",
    "           \n",
    "                15            16 \n",
    "                \n",
    "           'ptError', 'etaError', 'phiError',  'dxyError', 'dzError'\n",
    "           \n",
    "               17          18            19         20         21\n"
   ]
  },
  {
   "cell_type": "code",
   "execution_count": 4,
   "metadata": {},
   "outputs": [
    {
     "name": "stdout",
     "output_type": "stream",
     "text": [
      "Number of jets: (42390, 8, 17)\n",
      "Number of jets: (42390, 8, 17)\n"
     ]
    },
    {
     "data": {
      "text/plain": [
       "'\\nX_val = X_data[32000:]\\ny_val = y_data[32000:]\\nif len(X_val) == 0:\\n    print(\"To much testing data\")\\n'"
      ]
     },
     "execution_count": 4,
     "metadata": {},
     "output_type": "execute_result"
    }
   ],
   "source": [
    "num_pfc_cut = 8 # maxp\n",
    "# do not use the most complicated parameters\n",
    "X_data = X_data[:,:num_pfc_cut,:17] # do not include error for track params\n",
    "print(f\"Number of jets: {X_data.shape}\")\n",
    "\n",
    "# assign training and testing data\n",
    "# randomize data\n",
    "#idx = np.random.choice(X_data.shape[0], X_data.shape[0],replace=False)\n",
    "#print(idx)\n",
    "#X_data = X_data[idx]\n",
    "#y_data = y_data[idx]\n",
    "\n",
    "print(f\"Number of jets: {X_data.shape}\")\n",
    "# split data to training, testing, validation data\n",
    "X_train = X_data[:25000]\n",
    "y_train = y_data[:25000]\n",
    "\n",
    "X_test = X_data[25000:]\n",
    "y_test = y_data[25000:]\n",
    "if len(X_test) == 0:\n",
    "    print(\"To much training data\")\n",
    "\n",
    "'''\n",
    "X_val = X_data[32000:]\n",
    "y_val = y_data[32000:]\n",
    "if len(X_val) == 0:\n",
    "    print(\"To much testing data\")\n",
    "'''"
   ]
  },
  {
   "cell_type": "code",
   "execution_count": 5,
   "metadata": {},
   "outputs": [
    {
     "name": "stdout",
     "output_type": "stream",
     "text": [
      "(200000, 17)\n",
      "[[ 1.33203125e+01 -7.12302029e-01  1.88804519e+00  1.00000000e+00\n",
      "   1.77343756e-01 -1.41796872e-01  1.25121176e-01  1.68457195e-01\n",
      "   1.65924335e+00  2.22953300e+00 -1.00000000e+00 -1.00000000e+00\n",
      "  -1.00000000e+00  4.00000000e+00 -1.07356131e-01 -1.10583544e-01\n",
      "   6.95652366e-02]\n",
      " [ 1.11718750e+01 -5.61235368e-01  1.98179793e+00  1.00000000e+00\n",
      "   3.07617188e-02 -6.92382827e-03  1.10033214e-01  1.70855224e-01\n",
      "   1.22482181e+00  2.10469518e+00 -1.00000000e+00 -1.00000000e+00\n",
      "  -1.00000000e+00  3.00000000e+00  4.37105298e-02 -1.68308020e-02\n",
      "   5.83450347e-02]\n",
      " [ 2.19335938e+00 -6.98019326e-01  1.88823676e+00 -1.00000000e+00\n",
      "   1.37265623e-01  1.13515623e-01  9.93552729e-02  1.67453006e-01\n",
      "   1.35627759e+00  2.21818945e+00 -1.00000000e+00 -1.00000000e+00\n",
      "  -1.00000000e+00  3.00000000e+00 -9.30734277e-02 -1.10391974e-01\n",
      "   1.14548029e-02]\n",
      " [ 0.00000000e+00  0.00000000e+00  0.00000000e+00  0.00000000e+00\n",
      "   0.00000000e+00  0.00000000e+00  0.00000000e+00  0.00000000e+00\n",
      "   0.00000000e+00  0.00000000e+00  0.00000000e+00  0.00000000e+00\n",
      "   0.00000000e+00  0.00000000e+00  0.00000000e+00  0.00000000e+00\n",
      "   0.00000000e+00]\n",
      " [ 0.00000000e+00  0.00000000e+00  0.00000000e+00  0.00000000e+00\n",
      "   0.00000000e+00  0.00000000e+00  0.00000000e+00  0.00000000e+00\n",
      "   0.00000000e+00  0.00000000e+00  0.00000000e+00  0.00000000e+00\n",
      "   0.00000000e+00  0.00000000e+00  0.00000000e+00  0.00000000e+00\n",
      "   0.00000000e+00]]\n",
      "Before scaling: [13.3203125  -0.71230203  1.88804519  1.          0.17734376 -0.14179687\n",
      "  0.12512118  0.1684572   1.65924335  2.229533   -1.         -1.\n",
      " -1.          4.         -0.10735613 -0.11058354  0.06956524]\n",
      "StandardScaler(copy=True, with_mean=True, with_std=True)\n",
      "[[ 0.99330778 -0.67551593  1.0413842   1.12352725 -0.42748383 -0.06361877\n",
      "   1.11051256 -0.0095624   0.48850563  0.82793334  0.          0.\n",
      "   0.          1.59294414 -0.82649709 -0.13714483  0.07050679]\n",
      " [ 0.69456133 -0.53633921  1.09274546  1.12352725 -0.51308007 -0.00710911\n",
      "   0.28212413  0.1182266   0.4090627   0.67419541  0.          0.\n",
      "   0.          0.84878497  0.34342217  0.80081816 -0.10232943]\n",
      " [-0.55392724 -0.66235737  1.04148915 -0.89005407 -0.45088737  0.0433531\n",
      "  -0.30413682 -0.06307483  0.4331021   0.81396375  0.          0.\n",
      "   0.          0.84878497 -0.71588625 -0.13522825 -0.82462751]\n",
      " [ 1.85261121 -1.67438283 -0.68253701 -0.89005407 -0.51514442 -0.00752237\n",
      "   0.12525298  0.04359666  0.90574412  1.54626454  0.          0.\n",
      "   0.          0.84878497 -0.07550488  1.05052261  2.29791211]\n",
      " [-0.02623238 -1.58497233 -0.7259808  -0.89005407  0.90181826  0.07494057\n",
      "   0.0147278   0.15099233  0.563222    1.5058556   0.          0.\n",
      "   0.         -1.38369253  0.67607956  0.25714895  0.01201367]]\n",
      "(108858, 17)\n"
     ]
    }
   ],
   "source": [
    "# build scaler, which is passed to the Vertexing Envirnoment\n",
    "X_scale = X_train.reshape(X_train.shape[0]*X_train.shape[1], X_train.shape[2])\n",
    "print(X_scale.shape)\n",
    "print(X_scale[:5])\n",
    "print(f\"Before scaling: {X_scale[0]}\")\n",
    "remove_mask = []\n",
    "for i in range(X_scale.shape[0]):\n",
    "    if X_scale[i,0] == 0:\n",
    "        remove_mask.append(i)\n",
    "\n",
    "X_scale = np.delete(X_scale, np.array(remove_mask), 0)\n",
    "\n",
    "scaler = StandardScaler()\n",
    "print(scaler.fit(X_scale))\n",
    "X_scale = scaler.transform(X_scale)\n",
    "print(X_scale[:5])\n",
    "print(X_scale.shape)"
   ]
  },
  {
   "cell_type": "code",
   "execution_count": 6,
   "metadata": {},
   "outputs": [
    {
     "data": {
      "image/png": "[encoded data removed]",
      "text/plain": [
       "<Figure size 432x288 with 1 Axes>"
      ]
     },
     "metadata": {
      "needs_background": "light"
     },
     "output_type": "display_data"
    },
    {
     "data": {
      "image/png": "[encoded data removed]",
      "text/plain": [
       "<Figure size 432x288 with 1 Axes>"
      ]
     },
     "metadata": {
      "needs_background": "light"
     },
     "output_type": "display_data"
    },
    {
     "data": {
      "image/png": "[encoded data removed]",
      "text/plain": [
       "<Figure size 432x288 with 1 Axes>"
      ]
     },
     "metadata": {
      "needs_background": "light"
     },
     "output_type": "display_data"
    },
    {
     "data": {
      "image/png": "[encoded data removed]",
      "text/plain": [
       "<Figure size 432x288 with 1 Axes>"
      ]
     },
     "metadata": {
      "needs_background": "light"
     },
     "output_type": "display_data"
    },
    {
     "data": {
      "image/png": "[encoded data removed]",
      "text/plain": [
       "<Figure size 432x288 with 1 Axes>"
      ]
     },
     "metadata": {
      "needs_background": "light"
     },
     "output_type": "display_data"
    },
    {
     "data": {
      "image/png": "[encoded data removed]",
      "text/plain": [
       "<Figure size 432x288 with 1 Axes>"
      ]
     },
     "metadata": {
      "needs_background": "light"
     },
     "output_type": "display_data"
    },
    {
     "data": {
      "image/png": "[encoded data removed]",
      "text/plain": [
       "<Figure size 432x288 with 1 Axes>"
      ]
     },
     "metadata": {
      "needs_background": "light"
     },
     "output_type": "display_data"
    },
    {
     "data": {
      "image/png": "[encoded data removed]",
      "text/plain": [
       "<Figure size 432x288 with 1 Axes>"
      ]
     },
     "metadata": {
      "needs_background": "light"
     },
     "output_type": "display_data"
    },
    {
     "data": {
      "image/png": "[encoded data removed]",
      "text/plain": [
       "<Figure size 432x288 with 1 Axes>"
      ]
     },
     "metadata": {
      "needs_background": "light"
     },
     "output_type": "display_data"
    },
    {
     "data": {
      "image/png": "[encoded data removed]",
      "text/plain": [
       "<Figure size 432x288 with 1 Axes>"
      ]
     },
     "metadata": {
      "needs_background": "light"
     },
     "output_type": "display_data"
    },
    {
     "data": {
      "image/png": "[encoded data removed]",
      "text/plain": [
       "<Figure size 432x288 with 1 Axes>"
      ]
     },
     "metadata": {
      "needs_background": "light"
     },
     "output_type": "display_data"
    },
    {
     "data": {
      "image/png": "[encoded data removed]",
      "text/plain": [
       "<Figure size 432x288 with 1 Axes>"
      ]
     },
     "metadata": {
      "needs_background": "light"
     },
     "output_type": "display_data"
    },
    {
     "data": {
      "image/png": "[encoded data removed]",
      "text/plain": [
       "<Figure size 432x288 with 1 Axes>"
      ]
     },
     "metadata": {
      "needs_background": "light"
     },
     "output_type": "display_data"
    },
    {
     "data": {
      "image/png": "[encoded data removed]",
      "text/plain": [
       "<Figure size 432x288 with 1 Axes>"
      ]
     },
     "metadata": {
      "needs_background": "light"
     },
     "output_type": "display_data"
    },
    {
     "data": {
      "image/png": "[encoded data removed]",
      "text/plain": [
       "<Figure size 432x288 with 1 Axes>"
      ]
     },
     "metadata": {
      "needs_background": "light"
     },
     "output_type": "display_data"
    },
    {
     "data": {
      "image/png": "[encoded data removed]",
      "text/plain": [
       "<Figure size 432x288 with 1 Axes>"
      ]
     },
     "metadata": {
      "needs_background": "light"
     },
     "output_type": "display_data"
    },
    {
     "data": {
      "image/png": "[encoded data removed]",
      "text/plain": [
       "<Figure size 432x288 with 1 Axes>"
      ]
     },
     "metadata": {
      "needs_background": "light"
     },
     "output_type": "display_data"
    }
   ],
   "source": [
    "for i in range(X_scale.shape[1]):\n",
    "    plt.hist(X_scale[:,i], bins=100)\n",
    "    plt.title(f\"{i}th attr of scaled tracks\")\n",
    "    plt.show()"
   ]
  },
  {
   "cell_type": "markdown",
   "metadata": {},
   "source": [
    "Class definitions"
   ]
  },
  {
   "cell_type": "code",
   "execution_count": 7,
   "metadata": {},
   "outputs": [
    {
     "name": "stdout",
     "output_type": "stream",
     "text": [
      "tensor([[[[ 1.3320e+01,  1.0000e+00,  1.7734e-01, -1.4180e-01,  1.2512e-01,\n",
      "            1.6846e-01,  1.6592e+00,  2.2295e+00,  4.0000e+00, -1.0736e-01,\n",
      "           -1.1058e-01,  1.0000e+00],\n",
      "          [ 1.1172e+01,  1.0000e+00,  3.0762e-02, -6.9238e-03,  1.1003e-01,\n",
      "            1.7086e-01,  1.2248e+00,  2.1047e+00,  3.0000e+00,  4.3711e-02,\n",
      "           -1.6831e-02,  1.0000e+00],\n",
      "          [ 2.1934e+00, -1.0000e+00,  1.3727e-01,  1.1352e-01,  9.9355e-02,\n",
      "            1.6745e-01,  1.3563e+00,  2.2182e+00,  3.0000e+00, -9.3073e-02,\n",
      "           -1.1039e-01,  0.0000e+00],\n",
      "          [ 0.0000e+00,  0.0000e+00,  0.0000e+00,  0.0000e+00,  0.0000e+00,\n",
      "            0.0000e+00,  0.0000e+00,  0.0000e+00,  0.0000e+00,  0.0000e+00,\n",
      "            0.0000e+00,  0.0000e+00],\n",
      "          [ 0.0000e+00,  0.0000e+00,  0.0000e+00,  0.0000e+00,  0.0000e+00,\n",
      "            0.0000e+00,  0.0000e+00,  0.0000e+00,  0.0000e+00,  0.0000e+00,\n",
      "            0.0000e+00,  0.0000e+00],\n",
      "          [ 0.0000e+00,  0.0000e+00,  0.0000e+00,  0.0000e+00,  0.0000e+00,\n",
      "            0.0000e+00,  0.0000e+00,  0.0000e+00,  0.0000e+00,  0.0000e+00,\n",
      "            0.0000e+00,  0.0000e+00],\n",
      "          [ 0.0000e+00,  0.0000e+00,  0.0000e+00,  0.0000e+00,  0.0000e+00,\n",
      "            0.0000e+00,  0.0000e+00,  0.0000e+00,  0.0000e+00,  0.0000e+00,\n",
      "            0.0000e+00,  0.0000e+00],\n",
      "          [ 0.0000e+00,  0.0000e+00,  0.0000e+00,  0.0000e+00,  0.0000e+00,\n",
      "            0.0000e+00,  0.0000e+00,  0.0000e+00,  0.0000e+00,  0.0000e+00,\n",
      "            0.0000e+00,  0.0000e+00]]]])\n",
      "# actions: 17\n",
      "# inputs per track: 12\n",
      "# tracks: 8\n",
      "tensor([[[[ 1.3320e+01,  1.0000e+00,  1.7734e-01, -1.4180e-01,  1.2512e-01,\n",
      "            1.6846e-01,  1.6592e+00,  2.2295e+00,  4.0000e+00, -1.0736e-01,\n",
      "           -1.1058e-01,  1.0000e+00],\n",
      "          [ 1.1172e+01,  1.0000e+00,  3.0762e-02, -6.9238e-03,  1.1003e-01,\n",
      "            1.7086e-01,  1.2248e+00,  2.1047e+00,  3.0000e+00,  4.3711e-02,\n",
      "           -1.6831e-02,  1.0000e+00],\n",
      "          [ 2.1934e+00, -1.0000e+00,  1.3727e-01,  1.1352e-01,  9.9355e-02,\n",
      "            1.6745e-01,  1.3563e+00,  2.2182e+00,  3.0000e+00, -9.3073e-02,\n",
      "           -1.1039e-01,  0.0000e+00],\n",
      "          [ 0.0000e+00,  0.0000e+00,  0.0000e+00,  0.0000e+00,  0.0000e+00,\n",
      "            0.0000e+00,  0.0000e+00,  0.0000e+00,  0.0000e+00,  0.0000e+00,\n",
      "            0.0000e+00,  0.0000e+00],\n",
      "          [ 0.0000e+00,  0.0000e+00,  0.0000e+00,  0.0000e+00,  0.0000e+00,\n",
      "            0.0000e+00,  0.0000e+00,  0.0000e+00,  0.0000e+00,  0.0000e+00,\n",
      "            0.0000e+00,  0.0000e+00],\n",
      "          [ 0.0000e+00,  0.0000e+00,  0.0000e+00,  0.0000e+00,  0.0000e+00,\n",
      "            0.0000e+00,  0.0000e+00,  0.0000e+00,  0.0000e+00,  0.0000e+00,\n",
      "            0.0000e+00,  0.0000e+00],\n",
      "          [ 0.0000e+00,  0.0000e+00,  0.0000e+00,  0.0000e+00,  0.0000e+00,\n",
      "            0.0000e+00,  0.0000e+00,  0.0000e+00,  0.0000e+00,  0.0000e+00,\n",
      "            0.0000e+00,  0.0000e+00],\n",
      "          [ 0.0000e+00,  0.0000e+00,  0.0000e+00,  0.0000e+00,  0.0000e+00,\n",
      "            0.0000e+00,  0.0000e+00,  0.0000e+00,  0.0000e+00,  0.0000e+00,\n",
      "            0.0000e+00,  0.0000e+00]]]])\n",
      "True\n"
     ]
    }
   ],
   "source": [
    "#print(X_train.shape)\n",
    "Env_test = VO.TrackEnvironment(X_train[0])\n",
    "print(Env_test.state)\n",
    "Env_test = VO.TrackEnvironment(X_train[0], scaler=scaler)\n",
    "n_actions = 1 + 2 * Env_test.state.shape[2]\n",
    "print(f\"# actions: {n_actions}\")\n",
    "\n",
    "n_parameters =  Env_test.state.shape[3]\n",
    "print(f\"# inputs per track: {n_parameters}\")\n",
    "n_tracks = Env_test.state.shape[2]\n",
    "h = Env_test.state.shape[3]\n",
    "print(f\"# tracks: {n_tracks}\")\n",
    "#for i in range(X_train[:50].shape[0]):\n",
    " #   print(X_train[i, :5, :14])\n",
    "print(Env_test.state)\n",
    "print(type(scaler) == StandardScaler)\n"
   ]
  },
  {
   "cell_type": "code",
   "execution_count": 8,
   "metadata": {},
   "outputs": [
    {
     "name": "stdout",
     "output_type": "stream",
     "text": [
      "NN initialised\n"
     ]
    }
   ],
   "source": [
    "memory = []\n",
    "\n",
    "policy_net = DQN(n_tracks,n_parameters,n_actions).to(device)\n",
    "target_net = DQN(n_tracks,n_parameters,n_actions).to(device)\n",
    "target_net.load_state_dict(policy_net.state_dict())\n",
    "#target_net.load_state_dict(nn.init.zeros_(target_net.weight.size()))\n",
    "optimizer = optim.Adam(policy_net.parameters(),lr=0.0001)\n",
    "\n",
    "print(\"NN initialised\")\n",
    "\n",
    "gamma = 0\n",
    "GAMMA = 0.9 #0.9\n",
    "EPS_START = 1\n",
    "EPS_END = 0.2\n",
    "EPS_DECAY = 10000\n",
    "steps_done = 0\n",
    "\n",
    "MINI_BATCH = 256\n",
    "TARGET_UPDATE = 20\n",
    "\n",
    "epochs = 1\n",
    "num_episodes = 1500 #number of jets to train on\n",
    "num_test_episodes = 1500# number of jets to test on\n",
    "max_episode_length = 35 #when to end a vertex attempt\n",
    "run_test = True"
   ]
  },
  {
   "cell_type": "code",
   "execution_count": 9,
   "metadata": {},
   "outputs": [
    {
     "data": {
      "text/plain": [
       "tensor([[-0.1330, -0.0610,  0.0867, -0.0628, -0.1401,  0.1131, -0.0327, -0.0678,\n",
       "         -0.0670, -0.0819,  0.0551, -0.0725,  0.0548,  0.0114,  0.1376, -0.0574,\n",
       "         -0.0750]], device='cuda:0', grad_fn=<AddmmBackward>)"
      ]
     },
     "execution_count": 9,
     "metadata": {},
     "output_type": "execute_result"
    }
   ],
   "source": [
    "policy_net(Env_test.state.to(device))\n"
   ]
  },
  {
   "cell_type": "code",
   "execution_count": 10,
   "metadata": {},
   "outputs": [
    {
     "data": {
      "text/plain": [
       "'\\nEnv = VO.TrackEnvironment(X_train[12000])\\ny_true = y_train[12000,:3]\\n'"
      ]
     },
     "execution_count": 10,
     "metadata": {},
     "output_type": "execute_result"
    }
   ],
   "source": [
    "'''\n",
    "Env = VO.TrackEnvironment(X_train[12000])\n",
    "y_true = y_train[12000,:3]\n",
    "'''"
   ]
  },
  {
   "cell_type": "code",
   "execution_count": 11,
   "metadata": {},
   "outputs": [
    {
     "data": {
      "text/plain": [
       "'\\nEnv.take_action(2)\\noptimise_model_memory(MINI_BATCH)\\nx = Env.vertex.x\\nprint(Env.state)\\nprint(Env.vertex.track_indices)\\nprint(LA.norm(x-y_true))\\nprint(policy_net(Env.state.flatten().to(device)))\\n'"
      ]
     },
     "execution_count": 11,
     "metadata": {},
     "output_type": "execute_result"
    }
   ],
   "source": [
    "'''\n",
    "Env.take_action(2)\n",
    "optimise_model_memory(MINI_BATCH)\n",
    "x = Env.vertex.x\n",
    "print(Env.state)\n",
    "print(Env.vertex.track_indices)\n",
    "print(LA.norm(x-y_true))\n",
    "print(policy_net(Env.state.flatten().to(device)))\n",
    "'''"
   ]
  },
  {
   "cell_type": "code",
   "execution_count": 12,
   "metadata": {},
   "outputs": [
    {
     "data": {
      "text/plain": [
       "'\\nplt.hist([memory[i][2] for i in range(len(memory))], bins=np.arange(-2500, 5, 100))\\nplt.show()\\n'"
      ]
     },
     "execution_count": 12,
     "metadata": {},
     "output_type": "execute_result"
    }
   ],
   "source": [
    "'''\n",
    "plt.hist([memory[i][2] for i in range(len(memory))], bins=np.arange(-2500, 5, 100))\n",
    "plt.show()\n",
    "'''"
   ]
  },
  {
   "cell_type": "code",
   "execution_count": 13,
   "metadata": {},
   "outputs": [
    {
     "data": {
      "text/plain": [
       "'\\noptimise_model_memory(MINI_BATCH)\\nprint(policy_net(Env.state.flatten().to(device)))\\n'"
      ]
     },
     "execution_count": 13,
     "metadata": {},
     "output_type": "execute_result"
    }
   ],
   "source": [
    "'''\n",
    "optimise_model_memory(MINI_BATCH)\n",
    "print(policy_net(Env.state.flatten().to(device)))\n",
    "'''"
   ]
  },
  {
   "cell_type": "code",
   "execution_count": 14,
   "metadata": {},
   "outputs": [
    {
     "data": {
      "text/plain": [
       "'\\nif reward > -9:\\n    reward = 1\\n    if dflag:\\n        reward += 1\\nelse:\\n    reward = -1\\n    if type(vertex_x) != np.ndarray:\\n        reward -= 1\\n    if pflag:\\n        reward -= 20\\n'"
      ]
     },
     "execution_count": 14,
     "metadata": {},
     "output_type": "execute_result"
    }
   ],
   "source": [
    "            # clip rewards\n",
    "            \"\"\"\n",
    "            if reward > -9:\n",
    "                reward = 1\n",
    "                if dflag:\n",
    "                    reward += 1\n",
    "            else:\n",
    "                reward = -1\n",
    "                if type(vertex_x) != np.ndarray:\n",
    "                    reward -= 1\n",
    "                if pflag:\n",
    "                    reward -= 20\n",
    "            \"\"\""
   ]
  },
  {
   "cell_type": "code",
   "execution_count": 19,
   "metadata": {
    "scrolled": true
   },
   "outputs": [
    {
     "name": "stdout",
     "output_type": "stream",
     "text": [
      "Start training\n",
      "Currently at event: 0 \n",
      "Number of valid tracks: 3\n",
      "Steps done: 0\n",
      "Attempting action: 1\n",
      "Illegal stopping attempt!\n",
      "Trying instead: 4\n",
      "Reward for action 2: -10.056595038249277\n",
      "[0, 1, 2]\n",
      "Steps done: 1\n",
      "Attempting action: 14\n",
      "Reward for action 8: -1.084656543617104\n",
      "[1, 2]\n",
      "Steps done: 2\n",
      "Attempting action: 12\n",
      "Reward for action 0: -10.056595038249277\n",
      "[1, 2, 0]\n",
      "Steps done: 3\n",
      "Attempting action: 13\n",
      "Reward for action 16: -9.56430407054108\n",
      "[1, 2, 0]\n",
      "Done flag\n",
      "Trying to plot\n",
      "Closed figure\n",
      "Episode ended naturally\n",
      "Currently at event: 1 \n",
      "Number of valid tracks: 10000\n",
      "Steps done: 4\n",
      "Attempting action: 15\n",
      "Reward for action 5: -1129.8786052217597\n",
      "[0, 1, 5]\n",
      "Steps done: 5\n",
      "Attempting action: 5\n",
      "Reward for action 4: -91.33493835683072\n",
      "[0, 1, 5, 4]\n",
      "Steps done: 6\n",
      "Attempting action: 10\n",
      "Reward for action 12: -1129.8786052217597\n",
      "[0, 1, 5]\n",
      "Steps done: 7\n",
      "Attempting action: 2\n",
      "Reward for action 2: -250.62924914930642\n",
      "[0, 1, 5, 2]\n",
      "Steps done: 8\n",
      "Attempting action: 6\n",
      "Reward for action 6: -295.72511072574883\n",
      "[0, 1, 5, 2, 6]\n",
      "Steps done: 9\n",
      "Attempting action: 16\n",
      "Reward for action 16: -295.708208847515\n",
      "[0, 1, 5, 2, 6]\n",
      "Done flag\n",
      "Episode ended naturally\n",
      "Currently at event: 2 \n",
      "Number of valid tracks: 6\n",
      "Steps done: 10\n",
      "Attempting action: 3\n",
      "Reward for action 3: -126.4810489783127\n",
      "[0, 1, 3]\n",
      "Steps done: 11\n",
      "Attempting action: 4\n",
      "Reward for action 4: -180.14340018451307\n",
      "[0, 1, 3, 4]\n",
      "Steps done: 12\n",
      "Attempting action: 9\n",
      "Reward for action 9: -0.05855562946993192\n",
      "[0, 3, 4]\n",
      "Steps done: 13\n",
      "Attempting action: 3\n",
      "Reward for action 16: 31.476117826877996\n",
      "[0, 3, 4]\n",
      "Done flag\n",
      "Episode ended naturally\n",
      "Currently at event: 3 \n",
      "Number of valid tracks: 4\n",
      "Steps done: 14\n",
      "Attempting action: 12\n",
      "Reward for action 3: -1.1970483745611773\n",
      "[0, 1, 3]\n",
      "Steps done: 15\n",
      "Attempting action: 11\n",
      "Reward for action 11: -0.08283426036059059\n",
      "[0, 1]\n",
      "Steps done: 16\n",
      "Attempting action: 2\n",
      "Reward for action 2: -6.7414797399429665\n",
      "[0, 1, 2]\n",
      "Steps done: 17\n",
      "Attempting action: 14\n",
      "Reward for action 8: -1211.1781418726707\n",
      "[1, 2]\n",
      "Steps done: 18\n",
      "Attempting action: 3\n",
      "Reward for action 3: -23.580844184637307\n",
      "[1, 2, 3]\n",
      "Steps done: 19\n",
      "Attempting action: 5\n",
      "Reward for action 10: -10.546354667052984\n",
      "[1, 3]\n",
      "Did target update\n",
      "Steps done: 20\n",
      "Attempting action: 9\n",
      "Reward for action 2: -23.580844184637304\n",
      "[1, 3, 2]\n",
      "Steps done: 21\n",
      "Attempting action: 14\n",
      "Reward for action 0: -74.76210246106122\n",
      "[1, 3, 2, 0]\n",
      "Steps done: 22\n",
      "Attempting action: 13\n",
      "Reward for action 10: -1.1970483745611773\n",
      "[1, 3, 0]\n",
      "Steps done: 23\n",
      "Attempting action: 5\n",
      "Reward for action 11: -0.08283426036059059\n",
      "[1, 0]\n",
      "Steps done: 24\n",
      "Attempting action: 0\n",
      "Reward for action 3: -1.1970483745611773\n",
      "[1, 0, 3]\n",
      "Steps done: 25\n",
      "Attempting action: 15\n",
      "Reward for action 16: 2.6578579636019\n",
      "[1, 0, 3]\n",
      "Done flag\n",
      "Episode ended naturally\n",
      "Currently at event: 4 \n",
      "Number of valid tracks: 4\n",
      "Steps done: 26\n",
      "Attempting action: 10\n",
      "Reward for action 2: -583.1594327951717\n",
      "[0, 1, 2]\n",
      "Steps done: 27\n",
      "Attempting action: 14\n",
      "Reward for action 3: -54.31776730945346\n",
      "[0, 1, 2, 3]\n",
      "Steps done: 28\n",
      "Attempting action: 7\n",
      "Reward for action 11: -583.1594327951717\n",
      "[0, 1, 2]\n",
      "Steps done: 29\n",
      "Attempting action: 7\n",
      "Reward for action 8: -18.172488811239067\n",
      "[1, 2]\n",
      "Steps done: 30\n",
      "Attempting action: 4\n",
      "Reward for action 16: -17.898853399465022\n",
      "[1, 2]\n",
      "Done flag\n",
      "Episode ended naturally\n",
      "Currently at event: 5 \n",
      "Number of valid tracks: 6\n",
      "Steps done: 31\n",
      "Attempting action: 9\n",
      "Reward for action 2: -14.394866836086194\n",
      "[0, 1, 2]\n",
      "Steps done: 32\n",
      "Attempting action: 7\n",
      "Reward for action 16: -14.049917133785234\n",
      "[0, 1, 2]\n",
      "Done flag\n",
      "Episode ended naturally\n",
      "Currently at event: 6 \n",
      "Number of valid tracks: 3\n",
      "Steps done: 33\n",
      "Attempting action: 3\n",
      "Illegal stopping attempt!\n",
      "Trying instead: 4\n",
      "Reward for action 2: -105.3362768704522\n",
      "[0, 1, 2]\n",
      "Steps done: 34\n",
      "Attempting action: 10\n",
      "Reward for action 10: -31.067018348605988\n",
      "[0, 1]\n",
      "Steps done: 35\n",
      "Attempting action: 6\n",
      "Reward for action 2: -105.3362768704522\n",
      "[0, 1, 2]\n",
      "Steps done: 36\n",
      "Attempting action: 3\n",
      "Reward for action 8: -381.7562458028076\n",
      "[1, 2]\n",
      "Steps done: 37\n",
      "Attempting action: 16\n",
      "Reward for action 16: -381.7431518700647\n",
      "[1, 2]\n",
      "Done flag\n",
      "Episode ended naturally\n",
      "Currently at event: 7 \n",
      "Number of valid tracks: 5\n",
      "Steps done: 38\n",
      "Attempting action: 7\n",
      "Illegal stopping attempt!\n",
      "Trying instead: 15\n",
      "Reward for action 3: -0.08077841969310258\n",
      "[0, 1, 3]\n",
      "Steps done: 39\n",
      "Attempting action: 14\n",
      "Reward for action 2: -0.09087908330778863\n",
      "[0, 1, 3, 2]\n",
      "Did target update\n",
      "Steps done: 40\n",
      "Attempting action: 3\n",
      "Reward for action 16: 26.103714443409864\n",
      "[0, 1, 3, 2]\n",
      "Done flag\n",
      "Episode ended naturally\n",
      "Currently at event: 8 \n",
      "Number of valid tracks: 4\n",
      "Steps done: 41\n",
      "Attempting action: 9\n",
      "Reward for action 3: -475.1829588059634\n",
      "[0, 1, 3]\n",
      "Steps done: 42\n",
      "Attempting action: 7\n",
      "Reward for action 9: -979.141500528543\n",
      "[0, 3]\n",
      "Steps done: 43\n",
      "Attempting action: 5\n",
      "Reward for action 2: -583.3796675187233\n",
      "[0, 3, 2]\n",
      "Steps done: 44\n",
      "Attempting action: 3\n",
      "Reward for action 8: -1360.2147999325523\n",
      "[3, 2]\n",
      "Steps done: 45\n",
      "Attempting action: 8\n",
      "Reward for action 1: -639.0683714034803\n",
      "[3, 2, 1]\n",
      "Steps done: 46\n",
      "Attempting action: 14\n",
      "Reward for action 11: -83.69317932663425\n",
      "[2, 1]\n",
      "Steps done: 47\n",
      "Attempting action: 2\n",
      "Reward for action 0: -35.04850119977918\n",
      "[2, 1, 0]\n",
      "Steps done: 48\n",
      "Attempting action: 1\n",
      "Reward for action 9: -18.648631482108414\n",
      "[2, 0]\n",
      "Steps done: 49\n",
      "Attempting action: 1\n",
      "Reward for action 1: -35.04850119977918\n",
      "[2, 0, 1]\n",
      "Steps done: 50\n",
      "Attempting action: 0\n",
      "Reward for action 8: -83.69317932663425\n",
      "[2, 1]\n",
      "Steps done: 51\n",
      "Attempting action: 8\n",
      "Reward for action 0: -35.04850119977918\n",
      "[2, 1, 0]\n",
      "Steps done: 52\n",
      "Attempting action: 2\n",
      "Reward for action 9: -18.648631482108414\n",
      "[2, 0]\n",
      "Steps done: 53\n",
      "Attempting action: 11\n",
      "Reward for action 1: -35.04850119977918\n",
      "[2, 0, 1]\n",
      "Steps done: 54\n",
      "Attempting action: 7\n",
      "Reward for action 10: -18.585428667653467\n",
      "[0, 1]\n",
      "Steps done: 55\n",
      "Attempting action: 6\n",
      "Reward for action 3: -475.1829588059634\n",
      "[0, 1, 3]\n",
      "Steps done: 56\n",
      "Attempting action: 6\n",
      "Reward for action 11: -18.585428667653467\n",
      "[0, 1]\n",
      "Steps done: 57\n",
      "Attempting action: 16\n",
      "Reward for action 16: -18.317840479609618\n",
      "[0, 1]\n",
      "Done flag\n",
      "Episode ended naturally\n",
      "Currently at event: 9 \n",
      "Number of valid tracks: 3\n",
      "Steps done: 58\n",
      "Attempting action: 4\n",
      "Reward for action 2: -116.12534013454847\n",
      "[0, 1, 2]\n",
      "Steps done: 59\n",
      "Attempting action: 15\n",
      "Reward for action 8: -36.633140893260624\n",
      "[1, 2]\n",
      "Did target update\n",
      "Steps done: 60\n",
      "Attempting action: 2\n",
      "Reward for action 16: -36.497024027715995\n",
      "[1, 2]\n",
      "Done flag\n",
      "Episode ended naturally\n",
      "Currently at event: 10 \n",
      "Number of valid tracks: 4\n",
      "Steps done: 61\n",
      "Attempting action: 9\n",
      "Illegal stopping attempt!\n",
      "Trying instead: 7\n",
      "Reward for action 2: -23.47279214140562\n",
      "[0, 1, 2]\n",
      "Steps done: 62\n",
      "Attempting action: 4\n",
      "Reward for action 8: -56.30467801787001\n",
      "[1, 2]\n",
      "Steps done: 63\n",
      "Attempting action: 6\n",
      "Reward for action 0: -23.472792141405623\n",
      "[1, 2, 0]\n",
      "Steps done: 64\n",
      "Attempting action: 16\n",
      "Reward for action 16: -23.260683199452263\n",
      "[1, 2, 0]\n",
      "Done flag\n",
      "Episode ended naturally\n",
      "Currently at event: 11 \n",
      "Number of valid tracks: 5\n",
      "Steps done: 65\n",
      "Attempting action: 1\n",
      "Reward for action 4: -153.17744017998336\n",
      "[0, 1, 4]\n",
      "Steps done: 66\n",
      "Attempting action: 8\n",
      "Reward for action 8: -142.29395425130693\n",
      "[1, 4]\n",
      "Steps done: 67\n",
      "Attempting action: 8\n",
      "Reward for action 3: -515.4458656300651\n",
      "[1, 4, 3]\n",
      "Steps done: 68\n",
      "Attempting action: 2\n",
      "Reward for action 2: -371.646632199104\n",
      "[1, 4, 3, 2]\n",
      "Steps done: 69\n",
      "Attempting action: 11\n",
      "Reward for action 11: -76.55347940228334\n",
      "[1, 4, 2]\n",
      "Steps done: 70\n",
      "Attempting action: 10\n",
      "Reward for action 10: -142.29395425130693\n",
      "[1, 4]\n",
      "Steps done: 71\n",
      "Attempting action: 6\n",
      "Reward for action 16: -142.2588404009592\n",
      "[1, 4]\n",
      "Done flag\n",
      "Episode ended naturally\n",
      "Currently at event: 12 \n",
      "Number of valid tracks: 6\n",
      "Steps done: 72\n",
      "Attempting action: 13\n",
      "Reward for action 3: -122.73509587363432\n",
      "[0, 1, 3]\n",
      "Steps done: 73\n",
      "Attempting action: 3\n",
      "Reward for action 4: -159.81207261406087\n",
      "[0, 1, 3, 4]\n",
      "Steps done: 74\n",
      "Attempting action: 13\n",
      "Reward for action 5: -119.0293620123819\n",
      "[0, 1, 3, 4, 5]\n",
      "Steps done: 75\n",
      "Attempting action: 4\n",
      "Reward for action 9: -38.554178288586115\n",
      "[0, 3, 4, 5]\n",
      "Steps done: 76\n",
      "Attempting action: 7\n",
      "Reward for action 13: -2.402258890662589\n",
      "[0, 3, 4]\n",
      "Steps done: 77\n",
      "Attempting action: 15\n",
      "Reward for action 8: -1609.8607549641129\n",
      "[3, 4]\n",
      "Steps done: 78\n",
      "Attempting action: 9\n",
      "Reward for action 2: -207.61668139701015\n",
      "[3, 4, 2]\n",
      "Steps done: 79\n",
      "Attempting action: 13\n",
      "Reward for action 0: -92.6938739982456\n",
      "[3, 4, 2, 0]\n"
     ]
    },
    {
     "name": "stdout",
     "output_type": "stream",
     "text": [
      "Did target update\n",
      "Steps done: 80\n",
      "Attempting action: 13\n",
      "Reward for action 5: -19.263680507411078\n",
      "[3, 4, 2, 0, 5]\n",
      "Steps done: 81\n",
      "Attempting action: 8\n",
      "Reward for action 8: -32.23809549064923\n",
      "[3, 4, 2, 5]\n",
      "Steps done: 82\n",
      "Attempting action: 4\n",
      "Reward for action 16: -32.08347908779255\n",
      "[3, 4, 2, 5]\n",
      "Done flag\n",
      "Episode ended naturally\n",
      "Currently at event: 13 \n",
      "Number of valid tracks: 4\n",
      "Steps done: 83\n",
      "Attempting action: 15\n",
      "Reward for action 3: -713.0096064513009\n",
      "[0, 1, 3]\n",
      "Steps done: 84\n",
      "Attempting action: 10\n",
      "Reward for action 16: -713.0025949064349\n",
      "[0, 1, 3]\n",
      "Done flag\n",
      "Episode ended naturally\n",
      "Currently at event: 14 \n",
      "Number of valid tracks: 3\n",
      "Steps done: 85\n",
      "Attempting action: 1\n",
      "Reward for action 2: -1.0652760041324958\n",
      "[0, 1, 2]\n",
      "Steps done: 86\n",
      "Attempting action: 7\n",
      "Reward for action 9: -1.0397493570893261\n",
      "[0, 2]\n",
      "Steps done: 87\n",
      "Attempting action: 14\n"
     ]
    },
    {
     "ename": "KeyboardInterrupt",
     "evalue": "",
     "output_type": "error",
     "traceback": [
      "\u001b[0;31m---------------------------------------------------------------------------\u001b[0m",
      "\u001b[0;31mKeyboardInterrupt\u001b[0m                         Traceback (most recent call last)",
      "\u001b[0;32m<ipython-input-19-9fde612b0ffe>\u001b[0m in \u001b[0;36m<module>\u001b[0;34m\u001b[0m\n\u001b[1;32m     73\u001b[0m                     \u001b[0maction\u001b[0m \u001b[0;34m=\u001b[0m \u001b[0mn_actions\u001b[0m \u001b[0;34m-\u001b[0m \u001b[0;36m1\u001b[0m\u001b[0;34m\u001b[0m\u001b[0;34m\u001b[0m\u001b[0m\n\u001b[1;32m     74\u001b[0m                     \u001b[0mprint\u001b[0m\u001b[0;34m(\u001b[0m\u001b[0;34m\"Episode will have ended forcefully\"\u001b[0m\u001b[0;34m)\u001b[0m\u001b[0;34m\u001b[0m\u001b[0;34m\u001b[0m\u001b[0m\n\u001b[0;32m---> 75\u001b[0;31m                 \u001b[0mnext_state\u001b[0m\u001b[0;34m,\u001b[0m \u001b[0mvertex_x\u001b[0m\u001b[0;34m,\u001b[0m \u001b[0muncertainty\u001b[0m\u001b[0;34m,\u001b[0m \u001b[0mn\u001b[0m\u001b[0;34m,\u001b[0m \u001b[0mpflag\u001b[0m\u001b[0;34m,\u001b[0m \u001b[0mdflag\u001b[0m \u001b[0;34m=\u001b[0m \u001b[0mEnv\u001b[0m\u001b[0;34m.\u001b[0m\u001b[0mtake_action\u001b[0m\u001b[0;34m(\u001b[0m\u001b[0maction\u001b[0m\u001b[0;34m)\u001b[0m\u001b[0;34m\u001b[0m\u001b[0;34m\u001b[0m\u001b[0m\n\u001b[0m\u001b[1;32m     76\u001b[0m             \u001b[0mskipped_stopping\u001b[0m \u001b[0;34m=\u001b[0m \u001b[0;32mTrue\u001b[0m \u001b[0;31m# first action was valid\u001b[0m\u001b[0;34m\u001b[0m\u001b[0;34m\u001b[0m\u001b[0m\n\u001b[1;32m     77\u001b[0m             \u001b[0mtrain_pflags\u001b[0m\u001b[0;34m.\u001b[0m\u001b[0mappend\u001b[0m\u001b[0;34m(\u001b[0m\u001b[0mpflags_till_valid\u001b[0m\u001b[0;34m)\u001b[0m\u001b[0;34m\u001b[0m\u001b[0;34m\u001b[0m\u001b[0m\n",
      "\u001b[0;32m~/work/Vertexing/VertexObject.py\u001b[0m in \u001b[0;36mtake_action\u001b[0;34m(self, a)\u001b[0m\n\u001b[1;32m    218\u001b[0m         \u001b[0mvertex\u001b[0m\u001b[0;34m,\u001b[0m \u001b[0muncer\u001b[0m\u001b[0;34m,\u001b[0m \u001b[0mnumsteps\u001b[0m\u001b[0;34m,\u001b[0m \u001b[0mpflag\u001b[0m\u001b[0;34m,\u001b[0m \u001b[0mdflag\u001b[0m \u001b[0;34m=\u001b[0m \u001b[0;34m-\u001b[0m\u001b[0;36m1\u001b[0m\u001b[0;34m,\u001b[0m \u001b[0;34m-\u001b[0m\u001b[0;36m1\u001b[0m\u001b[0;34m,\u001b[0m \u001b[0;34m-\u001b[0m\u001b[0;36m1\u001b[0m\u001b[0;34m,\u001b[0m \u001b[0;34m-\u001b[0m\u001b[0;36m1\u001b[0m\u001b[0;34m,\u001b[0m \u001b[0;32mFalse\u001b[0m\u001b[0;34m\u001b[0m\u001b[0;34m\u001b[0m\u001b[0m\n\u001b[1;32m    219\u001b[0m         \u001b[0;32mif\u001b[0m \u001b[0ma\u001b[0m \u001b[0;34m<\u001b[0m \u001b[0mself\u001b[0m\u001b[0;34m.\u001b[0m\u001b[0mn\u001b[0m\u001b[0;34m:\u001b[0m\u001b[0;34m\u001b[0m\u001b[0;34m\u001b[0m\u001b[0m\n\u001b[0;32m--> 220\u001b[0;31m             \u001b[0mvertex\u001b[0m\u001b[0;34m,\u001b[0m \u001b[0muncer\u001b[0m\u001b[0;34m,\u001b[0m \u001b[0mnumsteps\u001b[0m\u001b[0;34m,\u001b[0m \u001b[0mpflag\u001b[0m \u001b[0;34m=\u001b[0m \u001b[0mself\u001b[0m\u001b[0;34m.\u001b[0m\u001b[0mvertex\u001b[0m\u001b[0;34m.\u001b[0m\u001b[0madd_track\u001b[0m\u001b[0;34m(\u001b[0m\u001b[0ma\u001b[0m\u001b[0;34m,\u001b[0m \u001b[0mself\u001b[0m\u001b[0;34m.\u001b[0m\u001b[0mtrack_data\u001b[0m\u001b[0;34m,\u001b[0m \u001b[0mself\u001b[0m\u001b[0;34m.\u001b[0m\u001b[0mstate\u001b[0m\u001b[0;34m)\u001b[0m\u001b[0;34m\u001b[0m\u001b[0;34m\u001b[0m\u001b[0m\n\u001b[0m\u001b[1;32m    221\u001b[0m             \u001b[0;32mif\u001b[0m \u001b[0;32mnot\u001b[0m \u001b[0mpflag\u001b[0m\u001b[0;34m:\u001b[0m\u001b[0;34m\u001b[0m\u001b[0;34m\u001b[0m\u001b[0m\n\u001b[1;32m    222\u001b[0m                 \u001b[0mself\u001b[0m\u001b[0;34m.\u001b[0m\u001b[0mstate\u001b[0m\u001b[0;34m[\u001b[0m\u001b[0;36m0\u001b[0m\u001b[0;34m,\u001b[0m\u001b[0;36m0\u001b[0m\u001b[0;34m,\u001b[0m\u001b[0ma\u001b[0m\u001b[0;34m,\u001b[0m \u001b[0;34m-\u001b[0m\u001b[0;36m1\u001b[0m\u001b[0;34m]\u001b[0m \u001b[0;34m=\u001b[0m \u001b[0;36m1\u001b[0m\u001b[0;34m\u001b[0m\u001b[0;34m\u001b[0m\u001b[0m\n",
      "\u001b[0;32m~/work/Vertexing/VertexObject.py\u001b[0m in \u001b[0;36madd_track\u001b[0;34m(self, i, track_data, state)\u001b[0m\n\u001b[1;32m     83\u001b[0m         \u001b[0;31m# compute pocas to all other already added tracks\u001b[0m\u001b[0;34m\u001b[0m\u001b[0;34m\u001b[0m\u001b[0;34m\u001b[0m\u001b[0m\n\u001b[1;32m     84\u001b[0m         \u001b[0;32mfor\u001b[0m \u001b[0mj\u001b[0m \u001b[0;32min\u001b[0m \u001b[0mself\u001b[0m\u001b[0;34m.\u001b[0m\u001b[0mtrack_indices\u001b[0m\u001b[0;34m:\u001b[0m\u001b[0;34m\u001b[0m\u001b[0;34m\u001b[0m\u001b[0m\n\u001b[0;32m---> 85\u001b[0;31m             \u001b[0mt_i\u001b[0m\u001b[0;34m,\u001b[0m \u001b[0mt_j\u001b[0m\u001b[0;34m,\u001b[0m \u001b[0mpoca_sep\u001b[0m\u001b[0;34m,\u001b[0m \u001b[0miter_counter\u001b[0m \u001b[0;34m=\u001b[0m \u001b[0mI\u001b[0m\u001b[0;34m.\u001b[0m\u001b[0mvertexing_by_index\u001b[0m\u001b[0;34m(\u001b[0m\u001b[0mi\u001b[0m\u001b[0;34m,\u001b[0m \u001b[0mj\u001b[0m\u001b[0;34m,\u001b[0m \u001b[0mtrack_data\u001b[0m\u001b[0;34m)\u001b[0m\u001b[0;34m\u001b[0m\u001b[0;34m\u001b[0m\u001b[0m\n\u001b[0m\u001b[1;32m     86\u001b[0m             \u001b[0mself\u001b[0m\u001b[0;34m.\u001b[0m\u001b[0mpocas\u001b[0m\u001b[0;34m.\u001b[0m\u001b[0mappend\u001b[0m\u001b[0;34m(\u001b[0m\u001b[0mPoca\u001b[0m\u001b[0;34m(\u001b[0m\u001b[0mi\u001b[0m\u001b[0;34m,\u001b[0m \u001b[0mt_i\u001b[0m\u001b[0;34m,\u001b[0m \u001b[0mj\u001b[0m\u001b[0;34m,\u001b[0m \u001b[0mtrack_data\u001b[0m\u001b[0;34m)\u001b[0m\u001b[0;34m)\u001b[0m\u001b[0;34m\u001b[0m\u001b[0;34m\u001b[0m\u001b[0m\n\u001b[1;32m     87\u001b[0m             \u001b[0mself\u001b[0m\u001b[0;34m.\u001b[0m\u001b[0mpocas\u001b[0m\u001b[0;34m.\u001b[0m\u001b[0mappend\u001b[0m\u001b[0;34m(\u001b[0m\u001b[0mPoca\u001b[0m\u001b[0;34m(\u001b[0m\u001b[0mj\u001b[0m\u001b[0;34m,\u001b[0m \u001b[0mt_j\u001b[0m\u001b[0;34m,\u001b[0m \u001b[0mi\u001b[0m\u001b[0;34m,\u001b[0m \u001b[0mtrack_data\u001b[0m\u001b[0;34m)\u001b[0m\u001b[0;34m)\u001b[0m\u001b[0;34m\u001b[0m\u001b[0;34m\u001b[0m\u001b[0m\n",
      "\u001b[0;32m~/work/Vertexing/Intersection_finder_absoluteCoordinates_Module.py\u001b[0m in \u001b[0;36mvertexing_by_index\u001b[0;34m(i, j, X)\u001b[0m\n\u001b[1;32m    429\u001b[0m                                 \u001b[0mphi1\u001b[0m\u001b[0;34m,\u001b[0m \u001b[0meta1\u001b[0m\u001b[0;34m,\u001b[0m \u001b[0mq1\u001b[0m\u001b[0;34m,\u001b[0m \u001b[0mpt1\u001b[0m\u001b[0;34m,\u001b[0m \u001b[0mdxy1\u001b[0m\u001b[0;34m,\u001b[0m \u001b[0mdz1\u001b[0m\u001b[0;34m,\u001b[0m\u001b[0;34m\u001b[0m\u001b[0;34m\u001b[0m\u001b[0m\n\u001b[1;32m    430\u001b[0m                                 \u001b[0mpvx1\u001b[0m\u001b[0;34m,\u001b[0m \u001b[0mpvy1\u001b[0m\u001b[0;34m,\u001b[0m \u001b[0mpvz1\u001b[0m\u001b[0;34m,\u001b[0m \u001b[0mchi2_1\u001b[0m\u001b[0;34m,\u001b[0m\u001b[0;34m\u001b[0m\u001b[0;34m\u001b[0m\u001b[0m\n\u001b[0;32m--> 431\u001b[0;31m                                 pdis=pdis_init)\n\u001b[0m\u001b[1;32m    432\u001b[0m     \u001b[0;32mreturn\u001b[0m \u001b[0mt0\u001b[0m\u001b[0;34m,\u001b[0m \u001b[0mt1\u001b[0m\u001b[0;34m,\u001b[0m \u001b[0mpoca_sep\u001b[0m\u001b[0;34m,\u001b[0m \u001b[0mcounter\u001b[0m\u001b[0;34m\u001b[0m\u001b[0;34m\u001b[0m\u001b[0m\n\u001b[1;32m    433\u001b[0m \u001b[0;34m\u001b[0m\u001b[0m\n",
      "\u001b[0;32m~/work/Vertexing/Intersection_finder_absoluteCoordinates_Module.py\u001b[0m in \u001b[0;36mvertexing_no_error_adaptive\u001b[0;34m(phi0, eta0, q0, pt0, dxy0, dz0, pvx0, pvy0, pvz0, chi2_0, phi1, eta1, q1, pt1, dxy1, dz1, pvx1, pvy1, pvz1, chi2_1, pdis)\u001b[0m\n\u001b[1;32m    368\u001b[0m                                 \u001b[0mpvx0\u001b[0m\u001b[0;34m,\u001b[0m \u001b[0mpvy0\u001b[0m\u001b[0;34m,\u001b[0m \u001b[0mpvz0\u001b[0m\u001b[0;34m,\u001b[0m\u001b[0;34m\u001b[0m\u001b[0;34m\u001b[0m\u001b[0m\n\u001b[1;32m    369\u001b[0m                                 \u001b[0mphi1\u001b[0m\u001b[0;34m,\u001b[0m \u001b[0meta1\u001b[0m\u001b[0;34m,\u001b[0m \u001b[0mq1\u001b[0m\u001b[0;34m,\u001b[0m \u001b[0mpt1\u001b[0m\u001b[0;34m,\u001b[0m \u001b[0mdxy1\u001b[0m\u001b[0;34m,\u001b[0m \u001b[0mdz1\u001b[0m\u001b[0;34m,\u001b[0m\u001b[0;34m\u001b[0m\u001b[0;34m\u001b[0m\u001b[0m\n\u001b[0;32m--> 370\u001b[0;31m                                 pvx1, pvy1, pvz1)\n\u001b[0m\u001b[1;32m    371\u001b[0m \u001b[0;34m\u001b[0m\u001b[0m\n\u001b[1;32m    372\u001b[0m         \u001b[0mpdis_0\u001b[0m \u001b[0;34m=\u001b[0m \u001b[0mpointdistance\u001b[0m\u001b[0;34m(\u001b[0m\u001b[0;34m(\u001b[0m\u001b[0mtend0_new\u001b[0m\u001b[0;34m-\u001b[0m\u001b[0mtstart0_new\u001b[0m\u001b[0;34m)\u001b[0m\u001b[0;34m/\u001b[0m\u001b[0mfloat\u001b[0m\u001b[0;34m(\u001b[0m\u001b[0mN\u001b[0m\u001b[0;34m)\u001b[0m\u001b[0;34m,\u001b[0m\u001b[0mphi0\u001b[0m\u001b[0;34m,\u001b[0m \u001b[0meta0\u001b[0m\u001b[0;34m,\u001b[0m \u001b[0mq0\u001b[0m\u001b[0;34m,\u001b[0m \u001b[0mpt0\u001b[0m\u001b[0;34m,\u001b[0m \u001b[0mdxy0\u001b[0m\u001b[0;34m,\u001b[0m \u001b[0mdz0\u001b[0m\u001b[0;34m)\u001b[0m\u001b[0;34m\u001b[0m\u001b[0;34m\u001b[0m\u001b[0m\n",
      "\u001b[0;32m~/work/Vertexing/Intersection_finder_absoluteCoordinates_Module.py\u001b[0m in \u001b[0;36mfindvertex_rp\u001b[0;34m(tstart0, tend0, tstart1, tend1, tstart0_new, tend0_new, tstart1_new, tend1_new, phi0, eta0, q0, pt0, dxy0, dz0, pvx0, pvy0, pvz0, phi1, eta1, q1, pt1, dxy1, dz1, pvx1, pvy1, pvz1)\u001b[0m\n\u001b[1;32m    171\u001b[0m \u001b[0;34m\u001b[0m\u001b[0m\n\u001b[1;32m    172\u001b[0m     \u001b[0;31m# matrices with sampling points, one with copied rows, one with with copied coloumns\u001b[0m\u001b[0;34m\u001b[0m\u001b[0;34m\u001b[0m\u001b[0;34m\u001b[0m\u001b[0m\n\u001b[0;32m--> 173\u001b[0;31m     \u001b[0mp0_mat\u001b[0m \u001b[0;34m=\u001b[0m \u001b[0mnp\u001b[0m\u001b[0;34m.\u001b[0m\u001b[0mtile\u001b[0m\u001b[0;34m(\u001b[0m\u001b[0mpoints0\u001b[0m\u001b[0;34m,\u001b[0m\u001b[0;34m(\u001b[0m\u001b[0mN\u001b[0m\u001b[0;34m,\u001b[0m\u001b[0;36m1\u001b[0m\u001b[0;34m,\u001b[0m\u001b[0;36m1\u001b[0m\u001b[0;34m)\u001b[0m\u001b[0;34m)\u001b[0m\u001b[0;34m\u001b[0m\u001b[0;34m\u001b[0m\u001b[0m\n\u001b[0m\u001b[1;32m    174\u001b[0m     \u001b[0mp1_mat\u001b[0m \u001b[0;34m=\u001b[0m \u001b[0mnp\u001b[0m\u001b[0;34m.\u001b[0m\u001b[0mtranspose\u001b[0m\u001b[0;34m(\u001b[0m\u001b[0mnp\u001b[0m\u001b[0;34m.\u001b[0m\u001b[0mtile\u001b[0m\u001b[0;34m(\u001b[0m\u001b[0mpoints1\u001b[0m\u001b[0;34m,\u001b[0m\u001b[0;34m(\u001b[0m\u001b[0mN\u001b[0m\u001b[0;34m,\u001b[0m\u001b[0;36m1\u001b[0m\u001b[0;34m,\u001b[0m\u001b[0;36m1\u001b[0m\u001b[0;34m)\u001b[0m\u001b[0;34m)\u001b[0m\u001b[0;34m,\u001b[0m\u001b[0;34m(\u001b[0m\u001b[0;36m1\u001b[0m\u001b[0;34m,\u001b[0m \u001b[0;36m0\u001b[0m\u001b[0;34m,\u001b[0m \u001b[0;36m2\u001b[0m\u001b[0;34m)\u001b[0m\u001b[0;34m)\u001b[0m\u001b[0;34m\u001b[0m\u001b[0;34m\u001b[0m\u001b[0m\n\u001b[1;32m    175\u001b[0m \u001b[0;34m\u001b[0m\u001b[0m\n",
      "\u001b[0;31mKeyboardInterrupt\u001b[0m: "
     ]
    }
   ],
   "source": [
    "#directory = './Plots_training/1013/05/'\n",
    "directory = '/beegfs/desy/user/rinckeph/work/Plots_training/1018/02/'\n",
    "save_format = 'pdf' #png\n",
    "# loop over training data\n",
    "steps_done = 0\n",
    "\n",
    "episode_lengths = []\n",
    "rewards = []\n",
    "\n",
    "print(\"Start training\")\n",
    "start_time = time.time()\n",
    "\n",
    "for i_epoch in range(epochs):\n",
    "\n",
    "    # go through training data once per epoch\n",
    "    episode_counter = 0\n",
    "    train_ntracks_used = []\n",
    "    train_vertex_error = []\n",
    "    train_pflags = []\n",
    "    train_steps = []\n",
    "    for i in range(X_train.shape[0]):\n",
    "        if X_train[i, 0, 0] == 0 or X_train[i, 1, 0] == 0:\n",
    "            continue\n",
    "        episode_counter += 1\n",
    "        #print(f\"Currentlyin  episode {episode_counter}\")\n",
    "        if episode_counter > num_episodes:\n",
    "            print(\"Reached required number of episodes\")\n",
    "            break\n",
    "        \n",
    "        Env = VO.TrackEnvironment(X_train[i], scaler=scaler)\n",
    "        print(f\"Currently at event: {i} \\nNumber of valid tracks: {Env.n_valid_tracks}\" )\n",
    "        state = Env.state\n",
    "        if len(memory) > 30000:\n",
    "            print(\"Memory update\")\n",
    "            #l = len(memory)\n",
    "            #idx = np.random.choice(l, l,replace=False)\n",
    "            #memory = memory[idx]\n",
    "            memory_r = random.sample(memory, len(memory))\n",
    "            memory = memory_r[:15000]\n",
    "            \n",
    "        pflags_till_valid = -1\n",
    "        steps_till_done = 0\n",
    "        skipped_stopping = False\n",
    "        for t in count():\n",
    "            print(f\"Steps done: {steps_done}\")\n",
    "            true_SV = np.array([y_train[i,0], y_train[i,1], y_train[i,2]])\n",
    "            #print(f\"SV: {true_SV}\")\n",
    "            actions = select_action_DQN(state)\n",
    "            next_state, vertex_x, uncertainty, n, pflag, dflag = -1, -1, -1, -1, True, False\n",
    "            actions_index = 0\n",
    "            action = actions[actions_index] # need to store action outside of loop            \n",
    "            '''\n",
    "            while pflag:\n",
    "                pflags_till_valid += 1\n",
    "                action = actions[actions_index]\n",
    "                if t > max_episode_length:\n",
    "                    action = n_actions - 1\n",
    "                    print(\"Episode will have ended forcefully\")\n",
    "                next_state, vertex_x, uncertainty, n, pflag, dflag = Env.take_action(action)\n",
    "                actions_index += 1\n",
    "            '''\n",
    "            \n",
    "            print(f\"Attempting action: {action}\")\n",
    "            while pflag:\n",
    "                pflags_till_valid += 1\n",
    "                action = actions[actions_index]\n",
    "                actions_index += 1\n",
    "                if action == n_actions - 1 and not skipped_stopping:\n",
    "                    print(\"Illegal stopping attempt!\")\n",
    "                    action = actions[actions_index]\n",
    "                    print(f\"Trying instead: {action}\")\n",
    "                if t > max_episode_length:\n",
    "                    action = n_actions - 1\n",
    "                    print(\"Episode will have ended forcefully\")\n",
    "                next_state, vertex_x, uncertainty, n, pflag, dflag = Env.take_action(action)\n",
    "            skipped_stopping = True # first action was valid\n",
    "            train_pflags.append(pflags_till_valid)\n",
    "            steps_till_done += 1\n",
    "            #print(Env.vertex.track_indices)\n",
    "            #print(Env.state)\n",
    "            # set up reward, if a vertex can be computed, set it to change in displacement\n",
    "            reward = -10000 # if no vertex, this should be positive\n",
    "            if type(vertex_x) == np.ndarray:\n",
    "                reward = - np.sum((vertex_x-true_SV)**2)\n",
    "                if dflag:\n",
    "                    reward += 5/(-reward+0.1)\n",
    "            if pflag:\n",
    "                reward -= 10000\n",
    "\n",
    "            rewards.append(reward)\n",
    "            print(f\"Reward for action {action}: {reward}\")\n",
    "            memory.append((state, action, reward, next_state, dflag))\n",
    "            state = next_state\n",
    "            #if i < 10:\n",
    "             #   print(Env.state)\n",
    "            print(Env.vertex.track_indices)\n",
    "            optimise_model_memory(MINI_BATCH)\n",
    "            optimise_model_memory(MINI_BATCH)\n",
    "            #print(\"Did model update\")\n",
    "            if steps_done%TARGET_UPDATE == 0 and steps_done!= 0:\n",
    "                target_net.load_state_dict(policy_net.state_dict())\n",
    "                gamma = GAMMA\n",
    "                print(\"Did target update\")\n",
    "            if dflag:\n",
    "                print(\"Done flag\")\n",
    "                train_steps.append(steps_till_done)\n",
    "                high_displacement = False\n",
    "                if type(vertex_x) == np.ndarray:\n",
    "                    if np.sum((vertex_x-true_SV)**2) > 14000:\n",
    "                        high_displacement = True\n",
    "                if i < 1 or high_displacement:\n",
    "                    print(\"Trying to plot\")\n",
    "                    error_str = \"no vertex\"\n",
    "                    if type(vertex_x) == np.ndarray:\n",
    "                        error_str = f\"{LA.norm(vertex_x-true_SV):.2f}\"\n",
    "                    uncer_str = \"uncertainty\"\n",
    "                    if uncertainty != None:\n",
    "                        uncer_str = f\"{uncertainty:.4f}\"\n",
    "                    textstr = f\"decay length: {y_train[i,3]}\"+f\"\\nreward: {reward} \\nerror: {error_str} \\nuncertainty: {uncer_str}\"\n",
    "                    fig, ax = I.helices_plot(Env.track_data,\n",
    "                                 Env.vertex.track_indices, textstr=textstr, \n",
    "                                 pocas=Env.vertex.pocas, barrel=True,\n",
    "                                 reco_vertex=vertex_x,true_vertex=true_SV)\n",
    "                    fig.savefig(f\"{directory}helix_train_{i}_ep_{i_epoch}.pdf\")\n",
    "                    plt.close()\n",
    "                    \n",
    "                    fig, ax = I.helices_plot_xy(Env.track_data,\n",
    "                                 Env.vertex.track_indices, textstr=textstr, \n",
    "                                 pocas=Env.vertex.pocas, barrel=True,\n",
    "                                 reco_vertex=vertex_x,true_vertex=true_SV)\n",
    "                    fig.savefig(f\"{directory}helix_xy_train_{i}_ep_{i_epoch}.pdf\")\n",
    "                    plt.close()\n",
    "                    print(\"Closed figure\")\n",
    "                if type(Env.vertex.x) == np.ndarray:\n",
    "                    train_vertex_error.append(LA.norm(Env.vertex.x-true_SV))\n",
    "                #print(\"Optional stuff done\")\n",
    "                train_ntracks_used.append(len(Env.vertex.track_indices))\n",
    "                episode_lengths.append(t)\n",
    "                if dflag:\n",
    "                    print(\"Episode ended naturally\")\n",
    "                else:\n",
    "                    print(\"Episode ended forcefully\")\n",
    "                #print(\"Break loop now\")\n",
    "                break\n",
    "    plt.hist(train_ntracks_used, bins=range(n_actions//2))\n",
    "    plt.xlabel(\"Num tracks used\")\n",
    "    plt.ylabel(\"Events\")\n",
    "    plt.title(\"Train sample\")\n",
    "    plt.savefig(f\"{directory}RL_train_ntracks_epo{i_epoch}.pdf\")\n",
    "    plt.close()\n",
    "        \n",
    "    plt.hist(train_vertex_error)\n",
    "    plt.xlabel(\"Vertexing error\")\n",
    "    plt.ylabel(\"Events\")\n",
    "    plt.title(\"Train sample\")\n",
    "    plt.yscale('log')\n",
    "    plt.savefig(f\"{directory}RL_train_displacement_epo{i_epoch}.pdf\")\n",
    "    plt.close()\n",
    "    \n",
    "    plt.hist(train_pflags, bins=range(n_actions//2))\n",
    "    plt.xlabel(\"Number of attempts for valid action\")\n",
    "    plt.ylabel(\"Events\")\n",
    "    plt.title(\"Train sample\")\n",
    "    plt.savefig(f\"{directory}RL_train_pflags_epo{i_epoch}.pdf\")\n",
    "    plt.close()\n",
    "    \n",
    "    plt.hist(train_steps, bins=range(max_episode_length))\n",
    "    plt.xlabel(\"Number of steps before done\")\n",
    "    plt.ylabel(\"Events\")\n",
    "    plt.title(\"Train sample\")\n",
    "    plt.savefig(f\"{directory}RL_train_nsteps_epo{i_epoch}.pdf\")\n",
    "    plt.close()   \n",
    "    \n",
    "    # test performance on test data once per episode (no random actions!)\n",
    "    print(\"Should I do testing?\")\n",
    "    if not run_test:\n",
    "        print(\"No :/\")\n",
    "        break\n",
    "    print(\"Yes!\")\n",
    "    episode_counter = 0\n",
    "    test_ntracks_used = []\n",
    "    test_vertex_error = []\n",
    "    test_decay_length = []\n",
    "    test_pflags = []\n",
    "    test_steps = []\n",
    "    test_tracks_used = []\n",
    "    print(\"Started testing\")\n",
    "    for i in range(X_test.shape[0]):\n",
    "        if episode_counter > num_test_episodes:\n",
    "            print(\"Reached required number of test episodes\")\n",
    "            break\n",
    "        episode_counter += 1\n",
    "        Env = VO.TrackEnvironment(X_test[i], scaler=scaler)\n",
    "        true_SV = np.array([y_test[i,0], y_test[i,1], y_test[i,2]])\n",
    "        state = Env.state\n",
    "        test_counter = 0\n",
    "        n_pflags = -1\n",
    "        n_steps = 0\n",
    "        skipped_stopping = False\n",
    "        for t in count():\n",
    "            steps_done += 1\n",
    "            state = state.to(device)\n",
    "            agent_out = policy_net(state)\n",
    "            actions = policy_net(state).argsort().cpu().numpy()\n",
    "            actions = np.flip(actions)\n",
    "            actions = [int(i) for i in actions[0]]\n",
    "            if t == 0 or action == n_actions-1:\n",
    "                print(f\"Predicted value of all actions: {agent_out}\")    \n",
    "            # init return values\n",
    "            next_state, vertex_x, uncertainty, n, pflag, dflag = -1, -1, -1, -1, True, False\n",
    "            actions_index = 0\n",
    "            action = actions[actions_index]\n",
    "            while pflag:\n",
    "                n_pflags += 1\n",
    "                action = actions[actions_index]\n",
    "                actions_index += 1\n",
    "                if action == n_actions - 1 and not skipped_stopping:\n",
    "                    action = actions[actions_index]\n",
    "                if t > max_episode_length:\n",
    "                    action = n_actions - 1\n",
    "                    print(\"Episode will have ended forcefully\")\n",
    "                next_state, vertex_x, uncertainty, n, pflag, dflag = Env.take_action(action)\n",
    "            skipped_stopping = True   \n",
    "            test_pflags.append(n_pflags)\n",
    "            n_steps += 1\n",
    "            current_error = 100\n",
    "            if type(vertex_x) == np.ndarray:\n",
    "                current_error = LA.norm(vertex_x-true_SV)\n",
    "            \n",
    "            if dflag:\n",
    "                print(f\"It took {t+1} steps in testing\")\n",
    "                test_steps.append(n_steps)\n",
    "                for track_ind in Env.vertex.track_indices:\n",
    "                    test_tracks_used.append(track_ind)\n",
    "                if (i < 100 and current_error < 0.1) or current_error<0.01:\n",
    "                    error_str = \"no vertex\"\n",
    "                    if type(vertex_x) == np.ndarray:\n",
    "                        error_str = f\"{current_error:.2f}\"\n",
    "                    uncer_str = \"uncertainty\"\n",
    "                    if uncertainty != None:\n",
    "                        uncer_str = f\"{uncertainty:.4f}\"\n",
    "                    textstr = f\"decay length: {y_test[i,3]} \\nerror: {error_str} \\nuncertainty: {uncer_str}\"\n",
    "                    fig, ax = I.helices_plot(Env.track_data,\n",
    "                                 Env.vertex.track_indices,\n",
    "                                 textstr=textstr, \n",
    "                                 pocas=Env.vertex.pocas, barrel=True,\n",
    "                                 reco_vertex=vertex_x,true_vertex=true_SV)\n",
    "\n",
    "                    fig.savefig(f\"{directory}helix_test_{i}_ep_{i_epoch}.pdf\")\n",
    "                    plt.close()\n",
    "                    \n",
    "                    fig, ax = I.helices_plot_xy(Env.track_data,\n",
    "                                 Env.vertex.track_indices,\n",
    "                                 textstr=textstr, \n",
    "                                 pocas=Env.vertex.pocas, barrel=True,\n",
    "                                 reco_vertex=vertex_x,true_vertex=true_SV)\n",
    "\n",
    "                    fig.savefig(f\"{directory}helix_xy_test_{i}_ep_{i_epoch}.pdf\")\n",
    "                    plt.close()\n",
    "                    \n",
    "                    fig, ax = I.helices_plot_xy(Env.track_data,\n",
    "                                 Env.vertex.track_indices,\n",
    "                                 textstr=textstr, \n",
    "                                 pocas=Env.vertex.pocas, barrel=True,\n",
    "                                 reco_vertex=vertex_x,true_vertex=true_SV)\n",
    "\n",
    "                    fig.savefig(f\"{directory}helix_xy_test_{i}_ep_{i_epoch}.pdf\")\n",
    "                    plt.close()\n",
    "\n",
    "                if type(Env.vertex.x) == np.ndarray:\n",
    "                    test_vertex_error.append(current_error)\n",
    "                    test_decay_length.append(y_test[i,3])\n",
    "                #else:\n",
    "                    #test_vertex_error.append(1000000)\n",
    "                test_ntracks_used.append(len(Env.vertex.track_indices))\n",
    "                if dflag:\n",
    "                    print(\"Episode ended naturally\")\n",
    "                else:\n",
    "                    print(\"Episode ended forcefully\")\n",
    "                break\n",
    "    \n",
    "    np.save(f\"{directory}test_ntracks_used_epo{i_epoch}.npy\",np.array(test_ntracks_used))\n",
    "    np.save(f\"{directory}test_vertex_error_epo{i_epoch}.npy\",np.array(test_vertex_error))\n",
    "    np.save(f\"{directory}test_decay_length_epo{i_epoch}.npy\",np.array(test_decay_length))\n",
    "    np.save(f\"{directory}test_pflags_epo{i_epoch}.npy\",np.array(test_pflags))\n",
    "    np.save(f\"{directory}test_steps_epo{i_epoch}.npy\",np.array(test_steps))\n",
    "    np.save(f\"{directory}test_tracks_used_epo{i_epoch}.npy\",np.array(test_tracks_used))\n",
    "    \n",
    "    plt.hist(test_ntracks_used, bins=range(n_actions//2))\n",
    "    plt.xlabel(\"Num tracks used\")\n",
    "    plt.ylabel(\"Events\")\n",
    "    plt.title(f\"Test sample, episode: {i_epoch}\")\n",
    "    plt.savefig(f\"{directory}RL_test_ntracks_epo{i_epoch}.pdf\")\n",
    "    plt.close()\n",
    "        \n",
    "    plt.hist(test_vertex_error)\n",
    "    plt.xlabel(\"Vertexing error\")\n",
    "    plt.ylabel(\"Events\")\n",
    "    plt.title(f\"Test sample, episode: {i_epoch}\")\n",
    "    plt.yscale('log')\n",
    "    plt.savefig(f\"{directory}RL_test_error_epo{i_epoch}.pdf\")\n",
    "    plt.close()\n",
    "\n",
    "    plt.hist(test_pflags, bins=range(n_actions//2))\n",
    "    plt.xlabel(\"Number of attepts till valid action\")\n",
    "    plt.ylabel(\"Events\")\n",
    "    plt.title(f\"Test sample, episode: {i_epoch}\")\n",
    "    plt.savefig(f\"{directory}RL_test_npflags_epo{i_epoch}.pdf\")\n",
    "    plt.close()\n",
    "                      \n",
    "    plt.hist(test_steps, bins=range(max_episode_length))\n",
    "    plt.xlabel(\"Number of steps till done\")\n",
    "    plt.ylabel(\"Events\")\n",
    "    plt.title(f\"Test sample, episode: {i_epoch}\")\n",
    "    plt.savefig(f\"{directory}RL_test_nsteps_epo{i_epoch}.pdf\")\n",
    "    plt.close()\n",
    "    \n",
    "    plt.hist(test_tracks_used, bins=range(n_actions//2))\n",
    "    plt.xlabel(\"Indices of tracks for vertexing\")\n",
    "    plt.ylabel(\"Occurances\")\n",
    "    #plt.title(f\"Test sample, episode: {i_epoch}\")\n",
    "    plt.savefig(f\"{directory}RL_test_tracks_used_epo{i_epoch}.pdf\")\n",
    "    plt.close()\n",
    "    \n",
    "    plt.scatter(test_decay_length, test_vertex_error, marker='.',s=15,c='k')\n",
    "    plt.xlabel(\"Decay length (cm)\")\n",
    "    plt.ylabel(\"Vertex error (cm)\")\n",
    "    plt.title(f\"Test sample, epoch: {i_epoch}\")\n",
    "    plt.savefig(f\"{directory}RL_test_decay_error_scatter_epo{i_epoch}.pdf\")\n",
    "    plt.close()\n",
    "    \n",
    "    plt.hist2d(test_decay_length, test_vertex_error, bins=(np.linspace(0,20,200), np.linspace(0,20,200)))\n",
    "    plt.xlabel(\"Decay length (cm)\")\n",
    "    plt.ylabel(\"Vertex error (cm)\")\n",
    "    plt.title(f\"Test sample, epoch: {i_epoch}\")\n",
    "    plt.savefig(f\"{directory}RL_test_decay_error_hist_epo{i_epoch}.pdf\")\n",
    "    plt.close()\n",
    "\n",
    "print(f\"Training ended, it took {time.time()-start_time:.2f} seconds for {epochs} epochs with {num_episodes} jets totalling {steps_done} steps\")\n"
   ]
  },
  {
   "cell_type": "code",
   "execution_count": null,
   "metadata": {},
   "outputs": [],
   "source": []
  },
  {
   "cell_type": "code",
   "execution_count": null,
   "metadata": {},
   "outputs": [],
   "source": []
  },
  {
   "cell_type": "code",
   "execution_count": 16,
   "metadata": {},
   "outputs": [
    {
     "data": {
      "image/png": "[encoded data removed]",
      "text/plain": [
       "<Figure size 432x288 with 1 Axes>"
      ]
     },
     "metadata": {
      "needs_background": "light"
     },
     "output_type": "display_data"
    },
    {
     "data": {
      "image/png": "[encoded data removed]",
      "text/plain": [
       "<Figure size 432x288 with 1 Axes>"
      ]
     },
     "metadata": {
      "needs_background": "light"
     },
     "output_type": "display_data"
    },
    {
     "name": "stdout",
     "output_type": "stream",
     "text": [
      "4302\n"
     ]
    }
   ],
   "source": [
    "plt.plot(range(len(episode_lengths)),episode_lengths)\n",
    "plt.xlabel(\"Episode\")\n",
    "plt.ylabel(\"Actions\")\n",
    "plt.savefig(f\"{directory}RL_epilength.png\")\n",
    "plt.show()\n",
    "\n",
    "plt.scatter(range(len(rewards)), -np.log(-np.array(rewards)), marker='.',s=15,c='k')\n",
    "\n",
    "plt.xlabel(\"Step\")\n",
    "plt.ylabel(\"Reward\")\n",
    "plt.savefig(f\"{directory}RL_rewards.png\")\n",
    "plt.show()\n",
    "\n",
    "\n",
    "print(len(memory))"
   ]
  },
  {
   "cell_type": "code",
   "execution_count": 17,
   "metadata": {},
   "outputs": [
    {
     "data": {
      "image/png": "[encoded data removed]",
      "text/plain": [
       "<Figure size 432x288 with 1 Axes>"
      ]
     },
     "metadata": {
      "needs_background": "light"
     },
     "output_type": "display_data"
    }
   ],
   "source": [
    "plt.hist2d(test_decay_length, test_vertex_error, bins=(np.linspace(0,20,200), np.linspace(0,20,200)))\n",
    "plt.show()"
   ]
  },
  {
   "cell_type": "code",
   "execution_count": null,
   "metadata": {},
   "outputs": [],
   "source": []
  },
  {
   "cell_type": "code",
   "execution_count": null,
   "metadata": {},
   "outputs": [],
   "source": []
  },
  {
   "cell_type": "code",
   "execution_count": null,
   "metadata": {},
   "outputs": [],
   "source": []
  }
 ],
 "metadata": {
  "kernelspec": {
   "display_name": "Python [conda env:myanaconda]",
   "language": "python",
   "name": "conda-env-myanaconda-py"
  },
  "language_info": {
   "codemirror_mode": {
    "name": "ipython",
    "version": 3
   },
   "file_extension": ".py",
   "mimetype": "text/x-python",
   "name": "python",
   "nbconvert_exporter": "python",
   "pygments_lexer": "ipython3",
   "version": "3.7.3"
  }
 },
 "nbformat": 4,
 "nbformat_minor": 2
}
