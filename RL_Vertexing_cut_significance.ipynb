{
 "cells": [
  {
   "cell_type": "code",
   "execution_count": 2,
   "metadata": {},
   "outputs": [
    {
     "name": "stdout",
     "output_type": "stream",
     "text": [
      "Device: cuda\n"
     ]
    }
   ],
   "source": [
    "# imports\n",
    "import sys\n",
    "import time\n",
    "from IPython.core.debugger import set_trace\n",
    "\n",
    "import numpy as np\n",
    "from numpy import linalg as LA\n",
    "import math\n",
    "import random\n",
    "\n",
    "import matplotlib\n",
    "#matplotlib.use('Agg')\n",
    "\n",
    "import matplotlib.pyplot as plt\n",
    "\n",
    "from itertools import count\n",
    "\n",
    "import torch#\n",
    "import torch.nn as nn\n",
    "import torch.optim as optim\n",
    "import torch.nn.functional as F\n",
    "import torchvision.transforms as T\n",
    "\n",
    "import Intersection_finder_absoluteCoordinates_Module as I\n",
    "import VertexObject as VO\n",
    "\n",
    "device = torch.device(\"cuda\" if torch.cuda.is_available() else \"cpu\")\n",
    "print(f\"Device: {device}\")"
   ]
  },
  {
   "cell_type": "code",
   "execution_count": 72,
   "metadata": {},
   "outputs": [],
   "source": [
    "class DQN(nn.Module):\n",
    "    \"\"\"DQN class with h input nodes and output output nodes\"\"\"\n",
    "    def __init__(self, n, h, outputs):\n",
    "        super(DQN, self).__init__()\n",
    "        self.cn1 = nn.Conv2d(1, 32, (1,h))\n",
    "        self.cn2 = nn.Conv2d(32, 32, (1,1))\n",
    "        self.cn3 = nn.Conv2d(32, 16, (1,1))\n",
    "        self.cn4 = nn.Conv2d(16, 8, (1,1))\n",
    "        self.fcn1 = nn.Linear(n * 8,256)\n",
    "        self.fcn4 = nn.Linear(256,128)\n",
    "        self.fcn6 = nn.Linear(128,64)\n",
    "        self.fcn5 = nn.Linear(64,outputs)\n",
    "\n",
    "    def forward(self, x):\n",
    "        x = self.cn1(x)\n",
    "        x = self.cn2(x)\n",
    "        x = self.cn3(x)\n",
    "        x = self.cn4(x)\n",
    "        x = x.flatten()\n",
    "        x = F.relu(self.fcn1(x))\n",
    "        x = F.relu(self.fcn4(x))\n",
    "        x = F.relu(self.fcn6(x))\n",
    "        x = self.fcn5(x)\n",
    "        return x\n",
    "\n",
    "\n",
    "def select_action_DQN(state):\n",
    "    \"\"\"Selects an action either based on policy or randomly\"\"\"\n",
    "    global steps_done\n",
    "    sample = random.random()\n",
    "    eps_threshold = EPS_END + (EPS_START - EPS_END) * math.exp(-1. * steps_done / EPS_DECAY)\n",
    "    steps_done += 1\n",
    "    a = 0\n",
    "    if sample > eps_threshold:\n",
    "        with torch.no_grad():\n",
    "            # return the index of the max in output tensor\n",
    "            state = state.to(device)\n",
    "            a = (policy_net(state).argsort()).cpu().numpy()\n",
    "            a = np.flip(a)\n",
    "    else:\n",
    "        # return random bool\n",
    "        a = np.random.choice(n_actions, n_actions,replace=False)\n",
    "    #print(\"Action selected:\", a)\n",
    "    return [int(i) for i in a]\n",
    "\n",
    "def init_weights(m):\n",
    "    \"\"\"Inits weights of m by random for linear layers\"\"\"\n",
    "    if type(m) == nn.Linear:\n",
    "        torch.nn.init.zeros_(m.weight)\n",
    "        m.bias.data.fill_(0.00)\n",
    "\n",
    "# maybe change reward such that it can be calculated after the experience\n",
    "# this way training can be made faster by keeping experiences\n",
    "# num steps is a bad thing as it is not         \n",
    "def optimise_model_memory(batch_size):\n",
    "    \"\"\"\n",
    "    This function performs one training step on policy net.\n",
    "    \n",
    "    State action value Q(s,a) is compared to r + Q_t(s',a')\n",
    "    and a step of the optimiser is taken.\n",
    "    \"\"\"\n",
    "    x_batch, y_batch = [], []\n",
    "    action_batch = []\n",
    "    batch_size = min(len(memory), batch_size)\n",
    "    minibatch = random.sample(memory, batch_size)\n",
    "    for state, action, reward, next_state, done in minibatch:\n",
    "        x_batch.append(state)\n",
    "        state = state.to(device)\n",
    "        next_state = next_state.to(device)\n",
    "        y_target = reward if done else reward + gamma * float((target_net(next_state).max()).to('cpu'))\n",
    "        action_batch.append(int(action))\n",
    "        y_batch.append(y_target)\n",
    "        #.type(torch.FloatTensor)\n",
    "    with torch.no_grad():\n",
    "        x_batch = torch.cat(x_batch).reshape((batch_size, n_inputs)).to(device)\n",
    "        y_batch = torch.tensor(y_batch).type(torch.FloatTensor).squeeze().to(device)\n",
    "        action_batch = torch.tensor(action_batch).reshape((batch_size,1)).to(device)\n",
    "    optimizer.zero_grad()\n",
    "    out = policy_net(x_batch).reshape((batch_size, n_actions))\n",
    "    out = out.gather(1, action_batch).squeeze()\n",
    "    loss = F.smooth_l1_loss(out, y_batch)\n",
    "    #loss = F.mse_loss(out, y_batch)\n",
    "    loss.backward()\n",
    "    # clip error values to values between -1 and 1\n",
    "    #for param in policy_net.parameters():\n",
    "     #   param.grad.data.clamp_(-1, 1)\n",
    "    optimizer.step()"
   ]
  },
  {
   "cell_type": "code",
   "execution_count": 73,
   "metadata": {},
   "outputs": [
    {
     "name": "stdout",
     "output_type": "stream",
     "text": [
      "Data loaded\n"
     ]
    }
   ],
   "source": [
    "np_load_old = np.load\n",
    "\n",
    "# modify the default parameters of np.load\n",
    "np.load = lambda *a,**k: np_load_old(*a, allow_pickle=True, **k)\n",
    "\n",
    "# set up training as testing data\n",
    "\n",
    "# load data in torch format\n",
    "X_data = np.load('PFC_data_pocas_wrtJ_sign_cut.npy')\n",
    "y_data = np.load('SV_true_pocas_wrtJ_sign_cut.npy')\n",
    "print(\"Data loaded\")\n",
    "np.load = np_load_old\n"
   ]
  },
  {
   "cell_type": "markdown",
   "metadata": {},
   "source": [
    "PFCatts = 'pt', 'eta', 'phi', 'charge', 'dxy', 'dz', 'pv_x', 'pv_y', 'pv_z',\n",
    "\n",
    "            0     1     2        3          4    5    6         7       8 \n",
    "            \n",
    "           'theta', 'chi2', 'normalizedChi2','ndof', 'nPixelHits', 'deltaEta',\n",
    "           \n",
    "              9        10            11         12       13            14\n",
    "              \n",
    "           'deltaPhi', 'jetPtFrac', \n",
    "           \n",
    "                15            16 \n",
    "                \n",
    "           'ptError', 'etaError', 'phiError',  'dxyError', 'dzError'\n",
    "           \n",
    "               17          18            19         20         21\n"
   ]
  },
  {
   "cell_type": "code",
   "execution_count": 74,
   "metadata": {},
   "outputs": [
    {
     "name": "stdout",
     "output_type": "stream",
     "text": [
      "Number of jets: (42390, 8, 17)\n",
      "Number of jets: (42390, 8, 17)\n"
     ]
    },
    {
     "data": {
      "text/plain": [
       "'\\nX_val = X_data[32000:]\\ny_val = y_data[32000:]\\nif len(X_val) == 0:\\n    print(\"To much testing data\")\\n'"
      ]
     },
     "execution_count": 74,
     "metadata": {},
     "output_type": "execute_result"
    }
   ],
   "source": [
    "num_pfc_cut = 8 # maxp\n",
    "# do not use the most complicated parameters\n",
    "X_data = X_data[:,:num_pfc_cut,:17] # do not include error for track params\n",
    "print(f\"Number of jets: {X_data.shape}\")\n",
    "\n",
    "# assign training and testing data\n",
    "# randomize data\n",
    "#idx = np.random.choice(X_data.shape[0], X_data.shape[0],replace=False)\n",
    "#print(idx)\n",
    "#X_data = X_data[idx]\n",
    "#y_data = y_data[idx]\n",
    "\n",
    "print(f\"Number of jets: {X_data.shape}\")\n",
    "# split data to training, testing, validation data\n",
    "X_train = X_data[:25000]\n",
    "y_train = y_data[:25000]\n",
    "\n",
    "X_test = X_data[25000:]\n",
    "y_test = y_data[25000:]\n",
    "if len(X_test) == 0:\n",
    "    print(\"To much training data\")\n",
    "\n",
    "'''\n",
    "X_val = X_data[32000:]\n",
    "y_val = y_data[32000:]\n",
    "if len(X_val) == 0:\n",
    "    print(\"To much testing data\")\n",
    "'''"
   ]
  },
  {
   "cell_type": "markdown",
   "metadata": {},
   "source": [
    "Class definitions"
   ]
  },
  {
   "cell_type": "code",
   "execution_count": 75,
   "metadata": {},
   "outputs": [
    {
     "name": "stdout",
     "output_type": "stream",
     "text": [
      "# actions: 17\n",
      "# inputs: 80\n"
     ]
    }
   ],
   "source": [
    "#print(X_train.shape)\n",
    "Env_test = VO.TrackEnvironment(X_train[0])\n",
    "n_actions = 1 + 2 * Env_test.state.shape[0]\n",
    "print(f\"# actions: {n_actions}\")\n",
    "\n",
    "n_inputs = Env_test.state.shape[0] * Env_test.state.shape[1]\n",
    "print(f\"# inputs: {n_inputs}\")\n",
    "n = Env_test.state.shape[0]\n",
    "h = Env_test.state.shape[1]\n",
    "\n",
    "#for i in range(X_train[:50].shape[0]):\n",
    " #   print(X_train[i, :5, :14])\n"
   ]
  },
  {
   "cell_type": "code",
   "execution_count": 76,
   "metadata": {},
   "outputs": [
    {
     "name": "stdout",
     "output_type": "stream",
     "text": [
      "NN initialised\n"
     ]
    }
   ],
   "source": [
    "memory = []\n",
    "\n",
    "policy_net = DQN(n,h,n_actions).to(device)\n",
    "target_net = DQN(n,h,n_actions).to(device)\n",
    "target_net.load_state_dict(policy_net.state_dict())\n",
    "#target_net.load_state_dict(nn.init.zeros_(target_net.weight.size()))\n",
    "optimizer = optim.Adam(policy_net.parameters(),lr=0.01)\n",
    "\n",
    "print(\"NN initialised\")\n",
    "\n",
    "gamma = 0\n",
    "GAMMA = 0.9 #0.9\n",
    "EPS_START = 1\n",
    "EPS_END = 0.1\n",
    "EPS_DECAY = 50000\n",
    "steps_done = 0\n",
    "\n",
    "MINI_BATCH = 200\n",
    "TARGET_UPDATE = 100\n",
    "\n",
    "epochs = 1\n",
    "num_episodes = 1000 #number of jets to train on\n",
    "num_test_episodes = 1000# number of jets to test on\n",
    "max_episode_length = 25 #when to end a vertex attempt\n",
    "run_test = True"
   ]
  },
  {
   "cell_type": "code",
   "execution_count": 77,
   "metadata": {},
   "outputs": [
    {
     "data": {
      "text/plain": [
       "tensor([-0.0046, -0.0656, -0.1349,  0.1169,  0.0410, -0.0343, -0.0219,  0.0243,\n",
       "         0.1184,  0.0772, -0.1508, -0.1100,  0.0803,  0.0044,  0.0652, -0.0573,\n",
       "        -0.1264], device='cuda:0', grad_fn=<AddBackward0>)"
      ]
     },
     "execution_count": 77,
     "metadata": {},
     "output_type": "execute_result"
    }
   ],
   "source": [
    "policy_net(Env_test.state.reshape((1,1,8,10)).to(device))"
   ]
  },
  {
   "cell_type": "code",
   "execution_count": 46,
   "metadata": {},
   "outputs": [
    {
     "data": {
      "text/plain": [
       "'\\nEnv = VO.TrackEnvironment(X_train[12000])\\ny_true = y_train[12000,:3]\\n'"
      ]
     },
     "execution_count": 46,
     "metadata": {},
     "output_type": "execute_result"
    }
   ],
   "source": [
    "'''\n",
    "Env = VO.TrackEnvironment(X_train[12000])\n",
    "y_true = y_train[12000,:3]\n",
    "'''"
   ]
  },
  {
   "cell_type": "code",
   "execution_count": 47,
   "metadata": {},
   "outputs": [
    {
     "data": {
      "text/plain": [
       "'\\nEnv.take_action(2)\\noptimise_model_memory(MINI_BATCH)\\nx = Env.vertex.x\\nprint(Env.state)\\nprint(Env.vertex.track_indices)\\nprint(LA.norm(x-y_true))\\nprint(policy_net(Env.state.flatten().to(device)))\\n'"
      ]
     },
     "execution_count": 47,
     "metadata": {},
     "output_type": "execute_result"
    }
   ],
   "source": [
    "'''\n",
    "Env.take_action(2)\n",
    "optimise_model_memory(MINI_BATCH)\n",
    "x = Env.vertex.x\n",
    "print(Env.state)\n",
    "print(Env.vertex.track_indices)\n",
    "print(LA.norm(x-y_true))\n",
    "print(policy_net(Env.state.flatten().to(device)))\n",
    "'''"
   ]
  },
  {
   "cell_type": "code",
   "execution_count": 48,
   "metadata": {},
   "outputs": [
    {
     "data": {
      "text/plain": [
       "'\\nplt.hist([memory[i][2] for i in range(len(memory))], bins=np.arange(-2500, 5, 100))\\nplt.show()\\n'"
      ]
     },
     "execution_count": 48,
     "metadata": {},
     "output_type": "execute_result"
    }
   ],
   "source": [
    "'''\n",
    "plt.hist([memory[i][2] for i in range(len(memory))], bins=np.arange(-2500, 5, 100))\n",
    "plt.show()\n",
    "'''"
   ]
  },
  {
   "cell_type": "code",
   "execution_count": 49,
   "metadata": {},
   "outputs": [
    {
     "data": {
      "text/plain": [
       "'\\noptimise_model_memory(MINI_BATCH)\\nprint(policy_net(Env.state.flatten().to(device)))\\n'"
      ]
     },
     "execution_count": 49,
     "metadata": {},
     "output_type": "execute_result"
    }
   ],
   "source": [
    "'''\n",
    "optimise_model_memory(MINI_BATCH)\n",
    "print(policy_net(Env.state.flatten().to(device)))\n",
    "'''"
   ]
  },
  {
   "cell_type": "code",
   "execution_count": 50,
   "metadata": {},
   "outputs": [
    {
     "data": {
      "text/plain": [
       "'\\nif reward > -9:\\n    reward = 1\\n    if dflag:\\n        reward += 1\\nelse:\\n    reward = -1\\n    if type(vertex_x) != np.ndarray:\\n        reward -= 1\\n    if pflag:\\n        reward -= 20\\n'"
      ]
     },
     "execution_count": 50,
     "metadata": {},
     "output_type": "execute_result"
    }
   ],
   "source": [
    "            # clip rewards\n",
    "            \"\"\"\n",
    "            if reward > -9:\n",
    "                reward = 1\n",
    "                if dflag:\n",
    "                    reward += 1\n",
    "            else:\n",
    "                reward = -1\n",
    "                if type(vertex_x) != np.ndarray:\n",
    "                    reward -= 1\n",
    "                if pflag:\n",
    "                    reward -= 20\n",
    "            \"\"\""
   ]
  },
  {
   "cell_type": "code",
   "execution_count": 51,
   "metadata": {
    "scrolled": true
   },
   "outputs": [
    {
     "name": "stdout",
     "output_type": "stream",
     "text": [
      "Start training\n",
      "Currently at event: 0\n",
      "Steps done: 0\n",
      "Reward for action 16: 31.439709351990135\n",
      "[0, 1]\n"
     ]
    },
    {
     "ename": "RuntimeError",
     "evalue": "Expected 4-dimensional input for 4-dimensional weight 32 1, but got 2-dimensional input of size [1, 80] instead",
     "output_type": "error",
     "traceback": [
      "\u001b[0;31m---------------------------------------------------------------------------\u001b[0m",
      "\u001b[0;31mRuntimeError\u001b[0m                              Traceback (most recent call last)",
      "\u001b[0;32m<ipython-input-51-f4504c71788c>\u001b[0m in \u001b[0;36m<module>\u001b[0;34m\u001b[0m\n\u001b[1;32m     74\u001b[0m              \u001b[0;31m#   print(Env.state)\u001b[0m\u001b[0;34m\u001b[0m\u001b[0;34m\u001b[0m\u001b[0;34m\u001b[0m\u001b[0m\n\u001b[1;32m     75\u001b[0m             \u001b[0mprint\u001b[0m\u001b[0;34m(\u001b[0m\u001b[0mEnv\u001b[0m\u001b[0;34m.\u001b[0m\u001b[0mvertex\u001b[0m\u001b[0;34m.\u001b[0m\u001b[0mtrack_indices\u001b[0m\u001b[0;34m)\u001b[0m\u001b[0;34m\u001b[0m\u001b[0;34m\u001b[0m\u001b[0m\n\u001b[0;32m---> 76\u001b[0;31m             \u001b[0moptimise_model_memory\u001b[0m\u001b[0;34m(\u001b[0m\u001b[0mMINI_BATCH\u001b[0m\u001b[0;34m)\u001b[0m\u001b[0;34m\u001b[0m\u001b[0;34m\u001b[0m\u001b[0m\n\u001b[0m\u001b[1;32m     77\u001b[0m             \u001b[0moptimise_model_memory\u001b[0m\u001b[0;34m(\u001b[0m\u001b[0mMINI_BATCH\u001b[0m\u001b[0;34m)\u001b[0m\u001b[0;34m\u001b[0m\u001b[0;34m\u001b[0m\u001b[0m\n\u001b[1;32m     78\u001b[0m             \u001b[0;31m#print(\"Did model update\")\u001b[0m\u001b[0;34m\u001b[0m\u001b[0;34m\u001b[0m\u001b[0;34m\u001b[0m\u001b[0m\n",
      "\u001b[0;32m<ipython-input-38-e16e19a7b39d>\u001b[0m in \u001b[0;36moptimise_model_memory\u001b[0;34m(batch_size)\u001b[0m\n\u001b[1;32m     77\u001b[0m         \u001b[0maction_batch\u001b[0m \u001b[0;34m=\u001b[0m \u001b[0mtorch\u001b[0m\u001b[0;34m.\u001b[0m\u001b[0mtensor\u001b[0m\u001b[0;34m(\u001b[0m\u001b[0maction_batch\u001b[0m\u001b[0;34m)\u001b[0m\u001b[0;34m.\u001b[0m\u001b[0mreshape\u001b[0m\u001b[0;34m(\u001b[0m\u001b[0;34m(\u001b[0m\u001b[0mbatch_size\u001b[0m\u001b[0;34m,\u001b[0m\u001b[0;36m1\u001b[0m\u001b[0;34m)\u001b[0m\u001b[0;34m)\u001b[0m\u001b[0;34m.\u001b[0m\u001b[0mto\u001b[0m\u001b[0;34m(\u001b[0m\u001b[0mdevice\u001b[0m\u001b[0;34m)\u001b[0m\u001b[0;34m\u001b[0m\u001b[0;34m\u001b[0m\u001b[0m\n\u001b[1;32m     78\u001b[0m     \u001b[0moptimizer\u001b[0m\u001b[0;34m.\u001b[0m\u001b[0mzero_grad\u001b[0m\u001b[0;34m(\u001b[0m\u001b[0;34m)\u001b[0m\u001b[0;34m\u001b[0m\u001b[0;34m\u001b[0m\u001b[0m\n\u001b[0;32m---> 79\u001b[0;31m     \u001b[0mout\u001b[0m \u001b[0;34m=\u001b[0m \u001b[0mpolicy_net\u001b[0m\u001b[0;34m(\u001b[0m\u001b[0mx_batch\u001b[0m\u001b[0;34m)\u001b[0m\u001b[0;34m.\u001b[0m\u001b[0mreshape\u001b[0m\u001b[0;34m(\u001b[0m\u001b[0;34m(\u001b[0m\u001b[0mbatch_size\u001b[0m\u001b[0;34m,\u001b[0m \u001b[0mn_actions\u001b[0m\u001b[0;34m)\u001b[0m\u001b[0;34m)\u001b[0m\u001b[0;34m\u001b[0m\u001b[0;34m\u001b[0m\u001b[0m\n\u001b[0m\u001b[1;32m     80\u001b[0m     \u001b[0mout\u001b[0m \u001b[0;34m=\u001b[0m \u001b[0mout\u001b[0m\u001b[0;34m.\u001b[0m\u001b[0mgather\u001b[0m\u001b[0;34m(\u001b[0m\u001b[0;36m1\u001b[0m\u001b[0;34m,\u001b[0m \u001b[0maction_batch\u001b[0m\u001b[0;34m)\u001b[0m\u001b[0;34m.\u001b[0m\u001b[0msqueeze\u001b[0m\u001b[0;34m(\u001b[0m\u001b[0;34m)\u001b[0m\u001b[0;34m\u001b[0m\u001b[0;34m\u001b[0m\u001b[0m\n\u001b[1;32m     81\u001b[0m     \u001b[0mloss\u001b[0m \u001b[0;34m=\u001b[0m \u001b[0mF\u001b[0m\u001b[0;34m.\u001b[0m\u001b[0msmooth_l1_loss\u001b[0m\u001b[0;34m(\u001b[0m\u001b[0mout\u001b[0m\u001b[0;34m,\u001b[0m \u001b[0my_batch\u001b[0m\u001b[0;34m)\u001b[0m\u001b[0;34m\u001b[0m\u001b[0;34m\u001b[0m\u001b[0m\n",
      "\u001b[0;32m~/.conda/envs/myanaconda/lib/python3.7/site-packages/torch/nn/modules/module.py\u001b[0m in \u001b[0;36m__call__\u001b[0;34m(self, *input, **kwargs)\u001b[0m\n\u001b[1;32m    545\u001b[0m             \u001b[0mresult\u001b[0m \u001b[0;34m=\u001b[0m \u001b[0mself\u001b[0m\u001b[0;34m.\u001b[0m\u001b[0m_slow_forward\u001b[0m\u001b[0;34m(\u001b[0m\u001b[0;34m*\u001b[0m\u001b[0minput\u001b[0m\u001b[0;34m,\u001b[0m \u001b[0;34m**\u001b[0m\u001b[0mkwargs\u001b[0m\u001b[0;34m)\u001b[0m\u001b[0;34m\u001b[0m\u001b[0;34m\u001b[0m\u001b[0m\n\u001b[1;32m    546\u001b[0m         \u001b[0;32melse\u001b[0m\u001b[0;34m:\u001b[0m\u001b[0;34m\u001b[0m\u001b[0;34m\u001b[0m\u001b[0m\n\u001b[0;32m--> 547\u001b[0;31m             \u001b[0mresult\u001b[0m \u001b[0;34m=\u001b[0m \u001b[0mself\u001b[0m\u001b[0;34m.\u001b[0m\u001b[0mforward\u001b[0m\u001b[0;34m(\u001b[0m\u001b[0;34m*\u001b[0m\u001b[0minput\u001b[0m\u001b[0;34m,\u001b[0m \u001b[0;34m**\u001b[0m\u001b[0mkwargs\u001b[0m\u001b[0;34m)\u001b[0m\u001b[0;34m\u001b[0m\u001b[0;34m\u001b[0m\u001b[0m\n\u001b[0m\u001b[1;32m    548\u001b[0m         \u001b[0;32mfor\u001b[0m \u001b[0mhook\u001b[0m \u001b[0;32min\u001b[0m \u001b[0mself\u001b[0m\u001b[0;34m.\u001b[0m\u001b[0m_forward_hooks\u001b[0m\u001b[0;34m.\u001b[0m\u001b[0mvalues\u001b[0m\u001b[0;34m(\u001b[0m\u001b[0;34m)\u001b[0m\u001b[0;34m:\u001b[0m\u001b[0;34m\u001b[0m\u001b[0;34m\u001b[0m\u001b[0m\n\u001b[1;32m    549\u001b[0m             \u001b[0mhook_result\u001b[0m \u001b[0;34m=\u001b[0m \u001b[0mhook\u001b[0m\u001b[0;34m(\u001b[0m\u001b[0mself\u001b[0m\u001b[0;34m,\u001b[0m \u001b[0minput\u001b[0m\u001b[0;34m,\u001b[0m \u001b[0mresult\u001b[0m\u001b[0;34m)\u001b[0m\u001b[0;34m\u001b[0m\u001b[0;34m\u001b[0m\u001b[0m\n",
      "\u001b[0;32m<ipython-input-38-e16e19a7b39d>\u001b[0m in \u001b[0;36mforward\u001b[0;34m(self, x)\u001b[0m\n\u001b[1;32m     13\u001b[0m \u001b[0;34m\u001b[0m\u001b[0m\n\u001b[1;32m     14\u001b[0m     \u001b[0;32mdef\u001b[0m \u001b[0mforward\u001b[0m\u001b[0;34m(\u001b[0m\u001b[0mself\u001b[0m\u001b[0;34m,\u001b[0m \u001b[0mx\u001b[0m\u001b[0;34m)\u001b[0m\u001b[0;34m:\u001b[0m\u001b[0;34m\u001b[0m\u001b[0;34m\u001b[0m\u001b[0m\n\u001b[0;32m---> 15\u001b[0;31m         \u001b[0mx\u001b[0m \u001b[0;34m=\u001b[0m \u001b[0mself\u001b[0m\u001b[0;34m.\u001b[0m\u001b[0mcn1\u001b[0m\u001b[0;34m(\u001b[0m\u001b[0mx\u001b[0m\u001b[0;34m)\u001b[0m\u001b[0;34m\u001b[0m\u001b[0;34m\u001b[0m\u001b[0m\n\u001b[0m\u001b[1;32m     16\u001b[0m         \u001b[0mx\u001b[0m \u001b[0;34m=\u001b[0m \u001b[0mself\u001b[0m\u001b[0;34m.\u001b[0m\u001b[0mcn2\u001b[0m\u001b[0;34m(\u001b[0m\u001b[0mx\u001b[0m\u001b[0;34m)\u001b[0m\u001b[0;34m\u001b[0m\u001b[0;34m\u001b[0m\u001b[0m\n\u001b[1;32m     17\u001b[0m         \u001b[0mx\u001b[0m \u001b[0;34m=\u001b[0m \u001b[0mself\u001b[0m\u001b[0;34m.\u001b[0m\u001b[0mcn3\u001b[0m\u001b[0;34m(\u001b[0m\u001b[0mx\u001b[0m\u001b[0;34m)\u001b[0m\u001b[0;34m\u001b[0m\u001b[0;34m\u001b[0m\u001b[0m\n",
      "\u001b[0;32m~/.conda/envs/myanaconda/lib/python3.7/site-packages/torch/nn/modules/module.py\u001b[0m in \u001b[0;36m__call__\u001b[0;34m(self, *input, **kwargs)\u001b[0m\n\u001b[1;32m    545\u001b[0m             \u001b[0mresult\u001b[0m \u001b[0;34m=\u001b[0m \u001b[0mself\u001b[0m\u001b[0;34m.\u001b[0m\u001b[0m_slow_forward\u001b[0m\u001b[0;34m(\u001b[0m\u001b[0;34m*\u001b[0m\u001b[0minput\u001b[0m\u001b[0;34m,\u001b[0m \u001b[0;34m**\u001b[0m\u001b[0mkwargs\u001b[0m\u001b[0;34m)\u001b[0m\u001b[0;34m\u001b[0m\u001b[0;34m\u001b[0m\u001b[0m\n\u001b[1;32m    546\u001b[0m         \u001b[0;32melse\u001b[0m\u001b[0;34m:\u001b[0m\u001b[0;34m\u001b[0m\u001b[0;34m\u001b[0m\u001b[0m\n\u001b[0;32m--> 547\u001b[0;31m             \u001b[0mresult\u001b[0m \u001b[0;34m=\u001b[0m \u001b[0mself\u001b[0m\u001b[0;34m.\u001b[0m\u001b[0mforward\u001b[0m\u001b[0;34m(\u001b[0m\u001b[0;34m*\u001b[0m\u001b[0minput\u001b[0m\u001b[0;34m,\u001b[0m \u001b[0;34m**\u001b[0m\u001b[0mkwargs\u001b[0m\u001b[0;34m)\u001b[0m\u001b[0;34m\u001b[0m\u001b[0;34m\u001b[0m\u001b[0m\n\u001b[0m\u001b[1;32m    548\u001b[0m         \u001b[0;32mfor\u001b[0m \u001b[0mhook\u001b[0m \u001b[0;32min\u001b[0m \u001b[0mself\u001b[0m\u001b[0;34m.\u001b[0m\u001b[0m_forward_hooks\u001b[0m\u001b[0;34m.\u001b[0m\u001b[0mvalues\u001b[0m\u001b[0;34m(\u001b[0m\u001b[0;34m)\u001b[0m\u001b[0;34m:\u001b[0m\u001b[0;34m\u001b[0m\u001b[0;34m\u001b[0m\u001b[0m\n\u001b[1;32m    549\u001b[0m             \u001b[0mhook_result\u001b[0m \u001b[0;34m=\u001b[0m \u001b[0mhook\u001b[0m\u001b[0;34m(\u001b[0m\u001b[0mself\u001b[0m\u001b[0;34m,\u001b[0m \u001b[0minput\u001b[0m\u001b[0;34m,\u001b[0m \u001b[0mresult\u001b[0m\u001b[0;34m)\u001b[0m\u001b[0;34m\u001b[0m\u001b[0;34m\u001b[0m\u001b[0m\n",
      "\u001b[0;32m~/.conda/envs/myanaconda/lib/python3.7/site-packages/torch/nn/modules/conv.py\u001b[0m in \u001b[0;36mforward\u001b[0;34m(self, input)\u001b[0m\n\u001b[1;32m    341\u001b[0m \u001b[0;34m\u001b[0m\u001b[0m\n\u001b[1;32m    342\u001b[0m     \u001b[0;32mdef\u001b[0m \u001b[0mforward\u001b[0m\u001b[0;34m(\u001b[0m\u001b[0mself\u001b[0m\u001b[0;34m,\u001b[0m \u001b[0minput\u001b[0m\u001b[0;34m)\u001b[0m\u001b[0;34m:\u001b[0m\u001b[0;34m\u001b[0m\u001b[0;34m\u001b[0m\u001b[0m\n\u001b[0;32m--> 343\u001b[0;31m         \u001b[0;32mreturn\u001b[0m \u001b[0mself\u001b[0m\u001b[0;34m.\u001b[0m\u001b[0mconv2d_forward\u001b[0m\u001b[0;34m(\u001b[0m\u001b[0minput\u001b[0m\u001b[0;34m,\u001b[0m \u001b[0mself\u001b[0m\u001b[0;34m.\u001b[0m\u001b[0mweight\u001b[0m\u001b[0;34m)\u001b[0m\u001b[0;34m\u001b[0m\u001b[0;34m\u001b[0m\u001b[0m\n\u001b[0m\u001b[1;32m    344\u001b[0m \u001b[0;34m\u001b[0m\u001b[0m\n\u001b[1;32m    345\u001b[0m \u001b[0;32mclass\u001b[0m \u001b[0mConv3d\u001b[0m\u001b[0;34m(\u001b[0m\u001b[0m_ConvNd\u001b[0m\u001b[0;34m)\u001b[0m\u001b[0;34m:\u001b[0m\u001b[0;34m\u001b[0m\u001b[0;34m\u001b[0m\u001b[0m\n",
      "\u001b[0;32m~/.conda/envs/myanaconda/lib/python3.7/site-packages/torch/nn/modules/conv.py\u001b[0m in \u001b[0;36mconv2d_forward\u001b[0;34m(self, input, weight)\u001b[0m\n\u001b[1;32m    338\u001b[0m                             _pair(0), self.dilation, self.groups)\n\u001b[1;32m    339\u001b[0m         return F.conv2d(input, weight, self.bias, self.stride,\n\u001b[0;32m--> 340\u001b[0;31m                         self.padding, self.dilation, self.groups)\n\u001b[0m\u001b[1;32m    341\u001b[0m \u001b[0;34m\u001b[0m\u001b[0m\n\u001b[1;32m    342\u001b[0m     \u001b[0;32mdef\u001b[0m \u001b[0mforward\u001b[0m\u001b[0;34m(\u001b[0m\u001b[0mself\u001b[0m\u001b[0;34m,\u001b[0m \u001b[0minput\u001b[0m\u001b[0;34m)\u001b[0m\u001b[0;34m:\u001b[0m\u001b[0;34m\u001b[0m\u001b[0;34m\u001b[0m\u001b[0m\n",
      "\u001b[0;31mRuntimeError\u001b[0m: Expected 4-dimensional input for 4-dimensional weight 32 1, but got 2-dimensional input of size [1, 80] instead"
     ]
    }
   ],
   "source": [
    "#directory = './Plots_training/1013/05/'\n",
    "directory = '/beegfs/desy/user/rinckeph/work/Plots_training/1014/05/'\n",
    "# loop over training data\n",
    "steps_done = 0\n",
    "\n",
    "episode_lengths = []\n",
    "rewards = []\n",
    "\n",
    "print(\"Start training\")\n",
    "start_time = time.time()\n",
    "\n",
    "for i_epoch in range(epochs):\n",
    "    # go through training data once per epoch\n",
    "    episode_counter = 0\n",
    "    train_ntracks_used = []\n",
    "    train_vertex_error = []\n",
    "    train_pflags = []\n",
    "    train_steps = []\n",
    "    for i in range(X_train.shape[0]):\n",
    "        if X_train[i, 0, 0] == 0 or X_train[i, 1, 0] == 0:\n",
    "            continue\n",
    "        episode_counter += 1\n",
    "        #print(f\"Currentlyin  episode {episode_counter}\")\n",
    "        if episode_counter > num_episodes:\n",
    "            print(\"Reached required number of episodes\")\n",
    "            break\n",
    "        print(f\"Currently at event: {i}\" )\n",
    "        Env = VO.TrackEnvironment(X_train[i])\n",
    "        state = Env.state\n",
    "        if len(memory) > 30000:\n",
    "            print(\"Memory update\")\n",
    "            #l = len(memory)\n",
    "            #idx = np.random.choice(l, l,replace=False)\n",
    "            #memory = memory[idx]\n",
    "            memory_r = random.sample(memory, len(memory))\n",
    "            memory = memory_r[:15000]\n",
    "            \n",
    "        pflags_till_valid = -1\n",
    "        steps_till_done = 0\n",
    "        for t in count():\n",
    "            print(f\"Steps done: {steps_done}\")\n",
    "            true_SV = np.array([y_train[i,0], y_train[i,1], y_train[i,2]])\n",
    "            #print(f\"SV: {true_SV}\")\n",
    "            actions = select_action_DQN(state)\n",
    "            next_state, vertex_x, uncertainty, n, pflag, dflag = -1, -1, -1, -1, True, False\n",
    "            actions_index = 0\n",
    "            action = 0\n",
    "            while pflag:\n",
    "                pflags_till_valid += 1\n",
    "                action = actions[actions_index]\n",
    "                if t > max_episode_length:\n",
    "                    action = n_actions - 1\n",
    "                    print(\"Episode will have ended forcefully\")\n",
    "                next_state, vertex_x, uncertainty, n, pflag, dflag = Env.take_action(action)\n",
    "                actions_index += 1\n",
    "            train_pflags.append(pflags_till_valid)\n",
    "            steps_till_done += 1\n",
    "            #print(Env.vertex.track_indices)\n",
    "            #print(Env.state)\n",
    "            # set up reward, if a vertex can be computed, set it to change in displacement\n",
    "            reward = -10000 # if no vertex, this should be positive\n",
    "            if type(vertex_x) == np.ndarray:\n",
    "                reward = - np.sum((vertex_x-true_SV)**2)\n",
    "                if dflag:\n",
    "                    reward += 5/(-reward+0.1)\n",
    "            if pflag:\n",
    "                reward -= 10000\n",
    "\n",
    "            rewards.append(reward)\n",
    "            print(f\"Reward for action {action}: {reward}\")\n",
    "            memory.append((state, action, reward, next_state, dflag))\n",
    "            state = next_state\n",
    "            #if i < 10:\n",
    "             #   print(Env.state)\n",
    "            print(Env.vertex.track_indices)\n",
    "            optimise_model_memory(MINI_BATCH)\n",
    "            optimise_model_memory(MINI_BATCH)\n",
    "            #print(\"Did model update\")\n",
    "            if steps_done%TARGET_UPDATE == 0 and steps_done!= 0:\n",
    "                target_net.load_state_dict(policy_net.state_dict())\n",
    "                gamma = GAMMA\n",
    "                print(\"Did target update\")\n",
    "            if dflag:\n",
    "                print(\"Done flag\")\n",
    "                train_steps.append(steps_till_done)\n",
    "                high_displacement = False\n",
    "                if type(vertex_x) == np.ndarray:\n",
    "                    if np.sum((vertex_x-true_SV)**2) > 2000:\n",
    "                        high_displacement = True\n",
    "                if i < 0 or high_displacement:\n",
    "                    print(\"Trying to plot\")\n",
    "                    error_str = \"no vertex\"\n",
    "                    if type(vertex_x) == np.ndarray:\n",
    "                        error_str = f\"{LA.norm(vertex_x-true_SV):.2f}\"\n",
    "                    uncer_str = \"uncertainty\"\n",
    "                    if uncertainty != None:\n",
    "                        uncer_str = f\"{uncertainty:.4f}\"\n",
    "                    textstr = f\"decay length: {y_train[i,3]}\"+f\"\\nreward: {reward} \\nerror: {error_str} \\nuncertainty: {uncer_str}\"\n",
    "                    fig, ax = I.helices_plot(Env.track_data,\n",
    "                                 Env.vertex.track_indices, textstr=textstr, \n",
    "                                 pocas=Env.vertex.pocas, barrel=True,\n",
    "                                 reco_vertex=vertex_x,true_vertex=true_SV)\n",
    "                    fig.savefig(f\"{directory}helix_train_{i}_ep_{i_epoch}.pdf\")\n",
    "                    plt.close()\n",
    "                    print(\"Closed figure\")\n",
    "                if type(Env.vertex.x) == np.ndarray:\n",
    "                    train_vertex_error.append(LA.norm(Env.vertex.x-true_SV))\n",
    "                #print(\"Optional stuff done\")\n",
    "                train_ntracks_used.append(len(Env.vertex.track_indices))\n",
    "                episode_lengths.append(t)\n",
    "                if dflag:\n",
    "                    print(\"Episode ended naturally\")\n",
    "                else:\n",
    "                    print(\"Episode ended forcefully\")\n",
    "                #print(\"Break loop now\")\n",
    "                break\n",
    "    plt.hist(train_ntracks_used, bins=range(n_actions//2))\n",
    "    plt.xlabel(\"Num tracks used\")\n",
    "    plt.ylabel(\"Events\")\n",
    "    plt.title(\"Train sample\")\n",
    "    plt.savefig(f\"{directory}RL_train_ntracks_epo{i_epoch}.pdf\")\n",
    "    plt.close()\n",
    "        \n",
    "    plt.hist(train_vertex_error)\n",
    "    plt.xlabel(\"Vertexing error\")\n",
    "    plt.ylabel(\"Events\")\n",
    "    plt.title(\"Train sample\")\n",
    "    plt.yscale('log')\n",
    "    plt.savefig(f\"{directory}RL_train_displacement_epo{i_epoch}.pdf\")\n",
    "    plt.close()\n",
    "    \n",
    "    plt.hist(train_pflags, bins=range(n_actions//2))\n",
    "    plt.xlabel(\"Number of attempts for valid action\")\n",
    "    plt.ylabel(\"Events\")\n",
    "    plt.title(\"Train sample\")\n",
    "    plt.savefig(f\"{directory}RL_train_pflags_epo{i_epoch}.pdf\")\n",
    "    plt.close()\n",
    "    \n",
    "    plt.hist(train_steps, bins=range(max_episode_length))\n",
    "    plt.xlabel(\"Number of steps before done\")\n",
    "    plt.ylabel(\"Events\")\n",
    "    plt.title(\"Train sample\")\n",
    "    plt.savefig(f\"{directory}RL_train_nsteps_epo{i_epoch}.pdf\")\n",
    "    plt.close()   \n",
    "\n",
    "    # test performance on test data once per episode (no random actions!)\n",
    "    print(\"Should I do testing?\")\n",
    "    if not run_test:\n",
    "        print(\"No :/\")\n",
    "        break\n",
    "    print(\"Yes!\")\n",
    "    episode_counter = 0\n",
    "    test_ntracks_used = []\n",
    "    test_vertex_error = []\n",
    "    test_decay_length = []\n",
    "    test_pflags = []\n",
    "    test_steps = []\n",
    "    print(\"Started testing\")\n",
    "    for i in range(X_test.shape[0]):\n",
    "        if episode_counter > num_test_episodes:\n",
    "            print(\"Reached required number of test episodes\")\n",
    "            break\n",
    "        episode_counter += 1\n",
    "        Env = VO.TrackEnvironment(X_test[i])\n",
    "        true_SV = np.array([y_test[i,0], y_test[i,1], y_test[i,2]])\n",
    "        state = Env.state\n",
    "        test_counter = 0\n",
    "        n_pflags = -1\n",
    "        n_steps = 0\n",
    "        for t in count():\n",
    "            steps_done += 1\n",
    "            state = state.to(device)\n",
    "            agent_out = policy_net(state)\n",
    "            actions = policy_net(state).argsort().cpu().numpy()\n",
    "            actions = np.flip(actions)\n",
    "            actions = [int(i) for i in actions]\n",
    "            if t == 0 or action == n_actions-1:\n",
    "                print(f\"Predicted value of all actions: {agent_out}\")    \n",
    "            # init return values\n",
    "            next_state, vertex_x, uncertainty, n, pflag, dflag = -1, -1, -1, -1, True, False\n",
    "            actions_index = 0\n",
    "            action = 0\n",
    "            while pflag:\n",
    "                n_pflags += 1\n",
    "                action = actions[actions_index]\n",
    "                if t > max_episode_length:\n",
    "                    action = n_actions - 1\n",
    "                    print(\"Episode will have ended forcefully\")\n",
    "                next_state, vertex_x, uncertainty, n, pflag, dflag = Env.take_action(action)\n",
    "                actions_index += 1\n",
    "            test_pflags.append(n_pflags)\n",
    "            n_steps += 1\n",
    "            current_error = 100\n",
    "            if type(vertex_x) == np.ndarray:\n",
    "                current_error = LA.norm(vertex_x-true_SV)\n",
    "            \n",
    "            if dflag:\n",
    "                print(f\"It took {t+1} steps in testing\")\n",
    "                test_steps.append(n_steps)\n",
    "                if (i < 100 and current_error < 0.1) or current_error<0.01:\n",
    "                    error_str = \"no vertex\"\n",
    "                    if type(vertex_x) == np.ndarray:\n",
    "                        error_str = f\"{current_error:.2f}\"\n",
    "                    uncer_str = \"uncertainty\"\n",
    "                    if uncertainty != None:\n",
    "                        uncer_str = f\"{uncertainty:.4f}\"\n",
    "                    textstr = f\"decay length: {y_test[i,3]} \\nerror: {error_str} \\nuncertainty: {uncer_str}\"\n",
    "                    fig, ax = I.helices_plot(Env.track_data,\n",
    "                                 Env.vertex.track_indices,\n",
    "                                 textstr=textstr, \n",
    "                                 pocas=Env.vertex.pocas, barrel=True,\n",
    "                                 reco_vertex=vertex_x,true_vertex=true_SV)\n",
    "\n",
    "                    fig.savefig(f\"{directory}helix_test_{i}_ep_{i_epoch}.pdf\")\n",
    "                    plt.close()\n",
    "\n",
    "                if type(Env.vertex.x) == np.ndarray:\n",
    "                    test_vertex_error.append(current_error)\n",
    "                    test_decay_length.append(y_test[i,3])\n",
    "                #else:\n",
    "                    #test_vertex_error.append(1000000)\n",
    "                test_ntracks_used.append(len(Env.vertex.track_indices))\n",
    "                if dflag:\n",
    "                    print(\"Episode ended naturally\")\n",
    "                else:\n",
    "                    print(\"Episode ended forcefully\")\n",
    "                break\n",
    "                \n",
    "    plt.hist(test_ntracks_used, bins=range(n_actions//2))\n",
    "    plt.xlabel(\"Num tracks used\")\n",
    "    plt.ylabel(\"Events\")\n",
    "    plt.title(f\"Test sample, episode: {i_epoch}\")\n",
    "    plt.savefig(f\"{directory}RL_test_ntracks_epo{i_epoch}.pdf\")\n",
    "    plt.close()\n",
    "        \n",
    "    plt.hist(test_vertex_error)\n",
    "    plt.xlabel(\"Vertexing error\")\n",
    "    plt.ylabel(\"Events\")\n",
    "    plt.title(f\"Test sample, episode: {i_epoch}\")\n",
    "    plt.yscale('log')\n",
    "    plt.savefig(f\"{directory}RL_test_error_epo{i_epoch}.pdf\")\n",
    "    plt.close()\n",
    "\n",
    "    plt.hist(test_pflags, bins=range(n_actions//2))\n",
    "    plt.xlabel(\"Number of attepts till valid action\")\n",
    "    plt.ylabel(\"Events\")\n",
    "    plt.title(f\"Test sample, episode: {i_epoch}\")\n",
    "    plt.savefig(f\"{directory}RL_test_npflags_epo{i_epoch}.pdf\")\n",
    "    plt.close()\n",
    "                      \n",
    "    plt.hist(test_steps, bins=range(max_episode_length))\n",
    "    plt.xlabel(\"Number of steps till done\")\n",
    "    plt.ylabel(\"Events\")\n",
    "    plt.title(f\"Test sample, episode: {i_epoch}\")\n",
    "    plt.savefig(f\"{directory}RL_test_nsteps_epo{i_epoch}.pdf\")\n",
    "    plt.close()\n",
    "    \n",
    "    plt.scatter(test_decay_length, test_vertex_error)\n",
    "    plt.xlabel(\"Decay length (cm)\")\n",
    "    plt.ylabel(\"Vertex error (cm)\")\n",
    "    plt.title(f\"Test sample, epoch: {i_epoch}\")\n",
    "    plt.savefig(f\"{directory}RL_test_decay_error_scatter_epo{i_epoch}.pdf\")\n",
    "    plt.close()\n",
    "    \n",
    "    plt.hist2d(test_decay_length, test_vertex_error, bins=(np.linspace(0,20,200), np.linspace(0,20,200)))\n",
    "    plt.xlabel(\"Decay length (cm)\")\n",
    "    plt.ylabel(\"Vertex error (cm)\")\n",
    "    plt.title(f\"Test sample, epoch: {i_epoch}\")\n",
    "    plt.savefig(f\"{directory}RL_test_decay_error_hist_epo{i_epoch}.pdf\")\n",
    "    plt.close()\n",
    "\n",
    "print(f\"Training ended, it took {time.time()-start_time:.2f} seconds for {epochs} epochs with {num_episodes} jets totalling {steps_done} steps\")\n"
   ]
  },
  {
   "cell_type": "code",
   "execution_count": 37,
   "metadata": {},
   "outputs": [
    {
     "data": {
      "image/png": "[encoded data removed]",
      "text/plain": [
       "<Figure size 432x288 with 1 Axes>"
      ]
     },
     "metadata": {
      "needs_background": "light"
     },
     "output_type": "display_data"
    },
    {
     "data": {
      "image/png": "[encoded data removed]",
      "text/plain": [
       "<Figure size 432x288 with 1 Axes>"
      ]
     },
     "metadata": {
      "needs_background": "light"
     },
     "output_type": "display_data"
    },
    {
     "name": "stdout",
     "output_type": "stream",
     "text": [
      "4326\n"
     ]
    }
   ],
   "source": [
    "plt.plot(range(len(episode_lengths)),episode_lengths)\n",
    "plt.xlabel(\"Episode\")\n",
    "plt.ylabel(\"Actions\")\n",
    "plt.savefig(f\"{directory}RL_epilength.png\")\n",
    "plt.show()\n",
    "\n",
    "plt.scatter(range(len(rewards)), -np.log(-np.array(rewards)), marker='.',s=15,c='k')\n",
    "\n",
    "plt.xlabel(\"Step\")\n",
    "plt.ylabel(\"Reward\")\n",
    "plt.savefig(f\"{directory}RL_rewards.png\")\n",
    "plt.show()\n",
    "\n",
    "\n",
    "print(len(memory))"
   ]
  },
  {
   "cell_type": "code",
   "execution_count": 21,
   "metadata": {},
   "outputs": [
    {
     "data": {
      "image/png": "[encoded data removed]",
      "text/plain": [
       "<Figure size 432x288 with 1 Axes>"
      ]
     },
     "metadata": {
      "needs_background": "light"
     },
     "output_type": "display_data"
    }
   ],
   "source": [
    "plt.hist2d(test_decay_length, test_vertex_error, bins=(np.linspace(0,20,200), np.linspace(0,20,200)))\n",
    "plt.show()"
   ]
  },
  {
   "cell_type": "code",
   "execution_count": null,
   "metadata": {},
   "outputs": [],
   "source": []
  },
  {
   "cell_type": "code",
   "execution_count": null,
   "metadata": {},
   "outputs": [],
   "source": []
  },
  {
   "cell_type": "code",
   "execution_count": null,
   "metadata": {},
   "outputs": [],
   "source": []
  }
 ],
 "metadata": {
  "kernelspec": {
   "display_name": "Python [conda env:myanaconda]",
   "language": "python",
   "name": "conda-env-myanaconda-py"
  },
  "language_info": {
   "codemirror_mode": {
    "name": "ipython",
    "version": 3
   },
   "file_extension": ".py",
   "mimetype": "text/x-python",
   "name": "python",
   "nbconvert_exporter": "python",
   "pygments_lexer": "ipython3",
   "version": "3.7.3"
  }
 },
 "nbformat": 4,
 "nbformat_minor": 2
}
